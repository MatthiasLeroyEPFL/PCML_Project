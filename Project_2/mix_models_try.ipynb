{
 "cells": [
  {
   "cell_type": "code",
   "execution_count": 21,
   "metadata": {},
   "outputs": [
    {
     "name": "stdout",
     "output_type": "stream",
     "text": [
      "The autoreload extension is already loaded. To reload it, use:\n",
      "  %reload_ext autoreload\n"
     ]
    }
   ],
   "source": [
    "%matplotlib inline\n",
    "import csv\n",
    "import pandas as pd\n",
    "import scipy.sparse as sc\n",
    "from helpers import *\n",
    "from sgd import *\n",
    "from als import *\n",
    "from sklearn import decomposition\n",
    "from scipy.optimize import minimize\n",
    "from models import *\n",
    "from plot import *\n",
    "%load_ext autoreload\n",
    "%autoreload 2"
   ]
  },
  {
   "cell_type": "code",
   "execution_count": 22,
   "metadata": {},
   "outputs": [],
   "source": [
    "ratings = load_data('data_train.csv')"
   ]
  },
  {
   "cell_type": "code",
   "execution_count": 23,
   "metadata": {},
   "outputs": [],
   "source": [
    "num_items_per_user = np.array((ratings != 0).sum(axis=0)).flatten()\n",
    "num_users_per_item = np.array((ratings != 0).sum(axis=1).T).flatten()"
   ]
  },
  {
   "cell_type": "code",
   "execution_count": 24,
   "metadata": {},
   "outputs": [
    {
     "name": "stdout",
     "output_type": "stream",
     "text": [
      "the shape of original ratings. (# of row, # of col): (10000, 1000)\n",
      "the shape of valid ratings. (# of row, # of col): (9990, 999)\n",
      "Total number of nonzero elements in origial data:1176952\n",
      "Total number of nonzero elements in train data:1065253\n",
      "Total number of nonzero elements in test data:111620\n"
     ]
    }
   ],
   "source": [
    "_,train, test = split_data(ratings, num_items_per_user, num_users_per_item, 10, 0.1)"
   ]
  },
  {
   "cell_type": "code",
   "execution_count": 25,
   "metadata": {},
   "outputs": [],
   "source": [
    "nnz_row, nnz_col = test.nonzero()\n",
    "nnz_test = list(zip(nnz_row, nnz_col))"
   ]
  },
  {
   "cell_type": "code",
   "execution_count": 26,
   "metadata": {},
   "outputs": [
    {
     "name": "stdout",
     "output_type": "stream",
     "text": [
      "test RMSE of the baseline using the item mean: [[ 1.09633198]].\n"
     ]
    }
   ],
   "source": [
    "predict_item_test = np.array(baseline_item_mean(train,test))"
   ]
  },
  {
   "cell_type": "code",
   "execution_count": 27,
   "metadata": {},
   "outputs": [
    {
     "name": "stdout",
     "output_type": "stream",
     "text": [
      "test RMSE of the baseline using the user mean: [[ 1.03317038]].\n"
     ]
    }
   ],
   "source": [
    "predict_user_test = np.array(baseline_user_mean(train, test))"
   ]
  },
  {
   "cell_type": "code",
   "execution_count": 28,
   "metadata": {},
   "outputs": [
    {
     "name": "stdout",
     "output_type": "stream",
     "text": [
      "test RMSE of baseline using the global mean: [[ 1.12152228]].\n"
     ]
    },
    {
     "data": {
      "text/plain": [
       "3.8581107023810133"
      ]
     },
     "execution_count": 28,
     "metadata": {},
     "output_type": "execute_result"
    }
   ],
   "source": [
    "predict_global_test = baseline_global_mean(train, test)\n",
    "predict_global_test"
   ]
  },
  {
   "cell_type": "code",
   "execution_count": 29,
   "metadata": {},
   "outputs": [
    {
     "name": "stdout",
     "output_type": "stream",
     "text": [
      "1.00165158065\n"
     ]
    }
   ],
   "source": [
    "predict_SVD_test, rmse = svd_surprise(train, test, None, 10)"
   ]
  },
  {
   "cell_type": "code",
   "execution_count": 30,
   "metadata": {},
   "outputs": [
    {
     "name": "stdout",
     "output_type": "stream",
     "text": [
      "Estimating biases using als...\n",
      "Computing the pearson_baseline similarity matrix...\n",
      "Done computing similarity matrix.\n",
      "0.988904728304\n"
     ]
    }
   ],
   "source": [
    "predict_KNNitem_test, rmse = knn_surprise(train,test,None,False, 100)"
   ]
  },
  {
   "cell_type": "code",
   "execution_count": 31,
   "metadata": {},
   "outputs": [
    {
     "name": "stdout",
     "output_type": "stream",
     "text": [
      "Estimating biases using als...\n",
      "1.00127314809\n"
     ]
    }
   ],
   "source": [
    "predict_baseline_test = baseline_surprise(train,test,None)"
   ]
  },
  {
   "cell_type": "code",
   "execution_count": 32,
   "metadata": {},
   "outputs": [
    {
     "name": "stdout",
     "output_type": "stream",
     "text": [
      "1.00185650691\n"
     ]
    }
   ],
   "source": [
    "predict_slope_test = slope_surprise(train, test, None)"
   ]
  },
  {
   "cell_type": "code",
   "execution_count": 33,
   "metadata": {},
   "outputs": [
    {
     "name": "stdout",
     "output_type": "stream",
     "text": [
      "RMSE on test data: 0.9837803281828068.\n",
      "Wall time: 9min 36s\n"
     ]
    }
   ],
   "source": [
    "%%time\n",
    "predict_SGD_test, rmse = matrix_factorization_SGD(train, test, 0.025, 20, 0.1, 0.016)"
   ]
  },
  {
   "cell_type": "code",
   "execution_count": 34,
   "metadata": {},
   "outputs": [
    {
     "name": "stdout",
     "output_type": "stream",
     "text": [
      "\n",
      "start the ALS algorithm...\n",
      "RMSE on training set: 0.9683854696262746.\n",
      "RMSE on training set: 0.9636641888328061.\n",
      "RMSE on training set: 0.9622033086723247.\n",
      "RMSE on training set: 0.9610708830609189.\n",
      "RMSE on training set: 0.9600981287338146.\n",
      "RMSE on training set: 0.9593451001369316.\n",
      "RMSE on training set: 0.9588289719349584.\n",
      "RMSE on training set: 0.9585034014048226.\n",
      "RMSE on training set: 0.9583079650772224.\n",
      "RMSE on training set: 0.958193546877028.\n",
      "RMSE on training set: 0.9581268728266509.\n",
      "test RMSE after running ALS: 0.9940086593042198.\n",
      "Wall time: 4min 29s\n"
     ]
    }
   ],
   "source": [
    "%%time\n",
    "\n",
    "predict_ALS_test, rmse = ALS(train,test,3, 0.2, 0.9)"
   ]
  },
  {
   "cell_type": "code",
   "execution_count": 35,
   "metadata": {},
   "outputs": [],
   "source": [
    "all_predictions_test = []\n",
    "all_predictions_test.append(predict_SGD_test)\n",
    "all_predictions_test.append(predict_ALS_test)\n",
    "all_predictions_test.append(predict_global_test)\n",
    "all_predictions_test.append(predict_SVD_test)\n",
    "all_predictions_test.append(predict_user_test)\n",
    "all_predictions_test.append(predict_item_test.reshape(9990,1))\n",
    "all_predictions_test.append(predict_KNNitem_test)\n",
    "all_predictions_test.append(predict_baseline_test)\n",
    "all_predictions_test.append(predict_slope_test)"
   ]
  },
  {
   "cell_type": "code",
   "execution_count": 36,
   "metadata": {},
   "outputs": [],
   "source": [
    "def const(x):\n",
    "    return x.sum() - 1\n",
    "constraint = {'type':'eq', 'fun': const}\n",
    "\n",
    "def sum_ratings(weights):\n",
    "    mix_prediction = 0\n",
    "    for i, pred in enumerate(all_predictions_test):\n",
    "        mix_prediction += weights[i] * pred\n",
    "    return compute_mix_error(test, nz=nnz_test, prediction=mix_prediction)\n"
   ]
  },
  {
   "cell_type": "code",
   "execution_count": 37,
   "metadata": {},
   "outputs": [
    {
     "name": "stdout",
     "output_type": "stream",
     "text": [
      "Wall time: 8min 30s\n"
     ]
    }
   ],
   "source": [
    "%%time\n",
    "x0 = [1/len(all_predictions_test)] * len(all_predictions_test)\n",
    "result = minimize(fun=sum_ratings, x0=x0)"
   ]
  },
  {
   "cell_type": "code",
   "execution_count": 38,
   "metadata": {},
   "outputs": [
    {
     "data": {
      "text/plain": [
       "      fun: 0.9783223030358202\n",
       " hess_inv: array([[  35.23846587,  -12.13447485,   -7.94560474,   -4.93093208,\n",
       "           7.6837867 ,    7.3400074 ,  -10.11201621,   -1.59913887,\n",
       "         -12.92650625],\n",
       "       [ -12.13447485,   23.41640839,    1.87847135,   -5.5105406 ,\n",
       "          -2.22198988,   -1.40539239,   -5.98282192,    5.17384502,\n",
       "          -3.44702249],\n",
       "       [  -7.94560474,    1.87847135,   87.70144834,    3.66840258,\n",
       "         -88.9059799 ,  -84.97560251,    7.44913467,   82.9007929 ,\n",
       "          -1.91244952],\n",
       "       [  -4.93093208,   -5.5105406 ,    3.66840258,   27.97233023,\n",
       "          -0.65865387,   -4.31658428,   -3.06356912,  -24.14321653,\n",
       "          11.11479486],\n",
       "       [   7.6837867 ,   -2.22198988,  -88.9059799 ,   -0.65865387,\n",
       "         109.92433179,   88.83684505,   -5.75982423, -152.30516689,\n",
       "          43.68141517],\n",
       "       [   7.3400074 ,   -1.40539239,  -84.97560251,   -4.31658428,\n",
       "          88.83684505,   87.83863784,   -7.29496764, -103.97172716,\n",
       "          18.15659263],\n",
       "       [ -10.11201621,   -5.98282192,    7.44913467,   -3.06356912,\n",
       "          -5.75982423,   -7.29496764,   36.48236855,  -15.3158582 ,\n",
       "           3.3231915 ],\n",
       "       [  -1.59913887,    5.17384502,   82.9007929 ,  -24.14321653,\n",
       "        -152.30516689, -103.97172716,  -15.3158582 ,  563.31239828,\n",
       "        -354.76060547],\n",
       "       [ -12.92650625,   -3.44702249,   -1.91244952,   11.11479486,\n",
       "          43.68141517,   18.15659263,    3.3231915 , -354.76060547,\n",
       "         296.98015172]])\n",
       "      jac: array([  2.34693289e-06,  -6.33299351e-07,  -8.19563866e-08,\n",
       "        -8.79168510e-07,  -9.23871994e-07,  -6.40749931e-07,\n",
       "        -2.83122063e-06,   4.61935997e-07,   2.54064798e-06])\n",
       "  message: 'Optimization terminated successfully.'\n",
       "     nfev: 638\n",
       "      nit: 53\n",
       "     njev: 58\n",
       "   status: 0\n",
       "  success: True\n",
       "        x: array([ 0.65520667,  0.1487928 ,  0.04672615,  0.04749113,  0.08724932,\n",
       "       -0.06340962,  0.40376256, -0.30433552, -0.01218448])"
      ]
     },
     "execution_count": 38,
     "metadata": {},
     "output_type": "execute_result"
    }
   ],
   "source": [
    "result"
   ]
  },
  {
   "cell_type": "code",
   "execution_count": 39,
   "metadata": {},
   "outputs": [
    {
     "name": "stdout",
     "output_type": "stream",
     "text": [
      "Progression: 100.00%\n",
      "start the ALS algorithm...\n",
      "RMSE on training set: 0.9697751806835305.\n",
      "RMSE on training set: 0.9652521967234385.\n",
      "RMSE on training set: 0.9637298175089041.\n",
      "RMSE on training set: 0.9625029911692241.\n",
      "RMSE on training set: 0.96151340878739.\n",
      "RMSE on training set: 0.9608201400665092.\n",
      "RMSE on training set: 0.9603902940452437.\n",
      "RMSE on training set: 0.9601438316572578.\n",
      "RMSE on training set: 0.9600078549084466.\n",
      "RMSE on training set: 0.9599332982742421.\n",
      "Wall time: 15min 51s\n"
     ]
    }
   ],
   "source": [
    "%%time\n",
    "predict_global = baseline_global_mean(ratings, None)\n",
    "predict_user = np.array(baseline_user_mean(ratings, None))\n",
    "predict_item = np.array(baseline_item_mean(ratings,None)).reshape(10000,1)\n",
    "predict_SGD = matrix_factorization_SGD(ratings,None, 0.025, 20, 0.1, 0.016)\n",
    "predict_ALS = ALS(ratings,None, 3, 0.2, 0.9)\n"
   ]
  },
  {
   "cell_type": "code",
   "execution_count": 40,
   "metadata": {},
   "outputs": [],
   "source": [
    "to_predict = get_to_predict()\n",
    "predict_SVD = svd_surprise(ratings, None, to_predict, 10 )"
   ]
  },
  {
   "cell_type": "code",
   "execution_count": 41,
   "metadata": {},
   "outputs": [
    {
     "name": "stdout",
     "output_type": "stream",
     "text": [
      "Estimating biases using als...\n",
      "Computing the pearson_baseline similarity matrix...\n",
      "Done computing similarity matrix.\n"
     ]
    }
   ],
   "source": [
    "predict_KNNitem = knn_surprise(ratings, None, to_predict, False)"
   ]
  },
  {
   "cell_type": "code",
   "execution_count": 42,
   "metadata": {},
   "outputs": [
    {
     "name": "stdout",
     "output_type": "stream",
     "text": [
      "Estimating biases using als...\n"
     ]
    }
   ],
   "source": [
    "predict_baseline = baseline_surprise(ratings, None, to_predict)"
   ]
  },
  {
   "cell_type": "code",
   "execution_count": 43,
   "metadata": {},
   "outputs": [],
   "source": [
    "predict_slope = slope_surprise(ratings, None, to_predict)"
   ]
  },
  {
   "cell_type": "code",
   "execution_count": 44,
   "metadata": {},
   "outputs": [],
   "source": [
    "all_predictions = []\n",
    "all_predictions.append(predict_SGD)\n",
    "all_predictions.append(predict_ALS)\n",
    "all_predictions.append(predict_global)\n",
    "all_predictions.append(predict_SVD)\n",
    "all_predictions.append(predict_user)\n",
    "all_predictions.append(predict_item.reshape(10000,1))\n",
    "all_predictions.append(predict_KNNitem)\n",
    "all_predictions.append(predict_baseline)\n",
    "all_predictions.append(predict_slope)"
   ]
  },
  {
   "cell_type": "code",
   "execution_count": 45,
   "metadata": {},
   "outputs": [],
   "source": [
    "final_predict = 0\n",
    "for i, pred in enumerate(all_predictions):\n",
    "    final_predict += result.x[i] * pred"
   ]
  },
  {
   "cell_type": "code",
   "execution_count": 46,
   "metadata": {},
   "outputs": [],
   "source": [
    "final_predict[final_predict<1] = 1\n",
    "final_predict[final_predict>5] = 5"
   ]
  },
  {
   "cell_type": "code",
   "execution_count": 47,
   "metadata": {},
   "outputs": [],
   "source": [
    "create_csv_submissions(final_predict)"
   ]
  }
 ],
 "metadata": {
  "kernelspec": {
   "display_name": "Python 3",
   "language": "python",
   "name": "python3"
  },
  "language_info": {
   "codemirror_mode": {
    "name": "ipython",
    "version": 3
   },
   "file_extension": ".py",
   "mimetype": "text/x-python",
   "name": "python",
   "nbconvert_exporter": "python",
   "pygments_lexer": "ipython3",
   "version": "3.6.3"
  }
 },
 "nbformat": 4,
 "nbformat_minor": 2
}
