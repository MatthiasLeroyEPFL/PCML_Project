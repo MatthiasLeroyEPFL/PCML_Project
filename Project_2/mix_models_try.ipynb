{
 "cells": [
  {
   "cell_type": "code",
   "execution_count": 90,
   "metadata": {},
   "outputs": [
    {
     "name": "stdout",
     "output_type": "stream",
     "text": [
      "The autoreload extension is already loaded. To reload it, use:\n",
      "  %reload_ext autoreload\n"
     ]
    }
   ],
   "source": [
    "%matplotlib inline\n",
    "import csv\n",
    "import pandas as pd\n",
    "import scipy.sparse as sc\n",
    "from helpers import *\n",
    "from sgd import *\n",
    "from als import *\n",
    "from sklearn import decomposition\n",
    "from scipy.optimize import minimize\n",
    "from models import *\n",
    "from plot import *\n",
    "%load_ext autoreload\n",
    "%autoreload 2"
   ]
  },
  {
   "cell_type": "code",
   "execution_count": 75,
   "metadata": {},
   "outputs": [
    {
     "name": "stdout",
     "output_type": "stream",
     "text": [
      "number of items: 10000, number of users: 1000\n"
     ]
    }
   ],
   "source": [
    "ratings = load_data('data_train.csv')"
   ]
  },
  {
   "cell_type": "code",
   "execution_count": 6,
   "metadata": {},
   "outputs": [
    {
     "data": {
      "text/plain": [
       "(10000, 1000)"
      ]
     },
     "execution_count": 6,
     "metadata": {},
     "output_type": "execute_result"
    }
   ],
   "source": [
    "ratings.shape"
   ]
  },
  {
   "cell_type": "code",
   "execution_count": 3,
   "metadata": {},
   "outputs": [],
   "source": [
    "num_items_per_user = np.array((ratings != 0).sum(axis=0)).flatten()\n",
    "num_users_per_item = np.array((ratings != 0).sum(axis=1).T).flatten()"
   ]
  },
  {
   "cell_type": "code",
   "execution_count": 4,
   "metadata": {},
   "outputs": [
    {
     "name": "stdout",
     "output_type": "stream",
     "text": [
      "the shape of original ratings. (# of row, # of col): (10000, 1000)\n",
      "the shape of valid ratings. (# of row, # of col): (9990, 999)\n",
      "Total number of nonzero elements in origial data:1176952\n",
      "Total number of nonzero elements in train data:1065253\n",
      "Total number of nonzero elements in test data:111620\n"
     ]
    }
   ],
   "source": [
    "_,train, test = split_data(ratings, num_items_per_user, num_users_per_item, 10, 0.1)"
   ]
  },
  {
   "cell_type": "code",
   "execution_count": 5,
   "metadata": {},
   "outputs": [],
   "source": [
    "nnz_row, nnz_col = test.nonzero()\n",
    "nnz_test = list(zip(nnz_row, nnz_col))"
   ]
  },
  {
   "cell_type": "code",
   "execution_count": 22,
   "metadata": {},
   "outputs": [
    {
     "name": "stdout",
     "output_type": "stream",
     "text": [
      "test RMSE of the baseline using the item mean: [[ 1.09633198]].\n"
     ]
    }
   ],
   "source": [
    "predict_item_test = np.array(baseline_item_mean(train,test))"
   ]
  },
  {
   "cell_type": "code",
   "execution_count": 23,
   "metadata": {},
   "outputs": [
    {
     "data": {
      "text/plain": [
       "(9990,)"
      ]
     },
     "execution_count": 23,
     "metadata": {},
     "output_type": "execute_result"
    }
   ],
   "source": [
    "predict_item_test.shape"
   ]
  },
  {
   "cell_type": "code",
   "execution_count": 7,
   "metadata": {},
   "outputs": [
    {
     "name": "stdout",
     "output_type": "stream",
     "text": [
      "test RMSE of the baseline using the user mean: [[ 1.03317038]].\n"
     ]
    }
   ],
   "source": [
    "predict_user_test = np.array(baseline_user_mean(train, test))"
   ]
  },
  {
   "cell_type": "code",
   "execution_count": 8,
   "metadata": {},
   "outputs": [
    {
     "data": {
      "text/plain": [
       "(999,)"
      ]
     },
     "execution_count": 8,
     "metadata": {},
     "output_type": "execute_result"
    }
   ],
   "source": [
    "predict_user_test.shape"
   ]
  },
  {
   "cell_type": "code",
   "execution_count": 10,
   "metadata": {},
   "outputs": [
    {
     "name": "stdout",
     "output_type": "stream",
     "text": [
      "test RMSE of baseline using the global mean: [[ 1.12152228]].\n"
     ]
    },
    {
     "data": {
      "text/plain": [
       "3.8581107023810133"
      ]
     },
     "execution_count": 10,
     "metadata": {},
     "output_type": "execute_result"
    }
   ],
   "source": [
    "predict_global_test = baseline_global_mean(train, test)\n",
    "predict_global_test"
   ]
  },
  {
   "cell_type": "code",
   "execution_count": 11,
   "metadata": {},
   "outputs": [
    {
     "name": "stdout",
     "output_type": "stream",
     "text": [
      "number of items: 9990, number of users: 999\n",
      "1.00623004569\n"
     ]
    }
   ],
   "source": [
    "predict_SVD_test = svd_surprise(train, test, None)"
   ]
  },
  {
   "cell_type": "code",
   "execution_count": 91,
   "metadata": {},
   "outputs": [
    {
     "name": "stdout",
     "output_type": "stream",
     "text": [
      "Estimating biases using als...\n",
      "Computing the pearson_baseline similarity matrix...\n",
      "Done computing similarity matrix.\n",
      "train\n",
      "err\n",
      "wtf\n",
      "number of items: 9990, number of users: 999\n",
      "1.01094055605\n",
      "Estimating biases using als...\n",
      "Computing the pearson_baseline similarity matrix...\n",
      "Done computing similarity matrix.\n",
      "train\n",
      "err\n",
      "wtf\n",
      "number of items: 9990, number of users: 999\n",
      "0.994576525247\n",
      "Estimating biases using als...\n",
      "Computing the pearson_baseline similarity matrix...\n",
      "Done computing similarity matrix.\n",
      "train\n",
      "err\n",
      "wtf\n",
      "number of items: 9990, number of users: 999\n",
      "0.988913768223\n",
      "Estimating biases using als...\n",
      "Computing the pearson_baseline similarity matrix...\n",
      "Done computing similarity matrix.\n",
      "train\n",
      "err\n",
      "wtf\n",
      "number of items: 9990, number of users: 999\n",
      "0.988904728304\n",
      "Estimating biases using als...\n",
      "Computing the pearson_baseline similarity matrix...\n",
      "Done computing similarity matrix.\n",
      "train\n",
      "err\n",
      "wtf\n",
      "number of items: 9990, number of users: 999\n",
      "0.988944705095\n",
      "Estimating biases using als...\n",
      "Computing the pearson_baseline similarity matrix...\n",
      "Done computing similarity matrix.\n",
      "train\n",
      "err\n",
      "wtf\n",
      "number of items: 9990, number of users: 999\n",
      "0.988944811001\n",
      "Estimating biases using als...\n",
      "Computing the pearson_baseline similarity matrix...\n",
      "Done computing similarity matrix.\n",
      "train\n",
      "err\n",
      "wtf\n",
      "number of items: 9990, number of users: 999\n",
      "0.988944874296\n",
      "Estimating biases using als...\n",
      "Computing the pearson_baseline similarity matrix...\n",
      "Done computing similarity matrix.\n",
      "train\n",
      "err\n",
      "wtf\n",
      "number of items: 9990, number of users: 999\n",
      "0.988944874296\n"
     ]
    },
    {
     "data": {
      "image/png": "[encoded data removed]",
      "text/plain": [
       "<matplotlib.figure.Figure at 0x2e2800b8748>"
      ]
     },
     "metadata": {},
     "output_type": "display_data"
    }
   ],
   "source": [
    "predict_KNNitem_test, rmse = knn_surprise(train,test,None,False, 100)\n"
   ]
  },
  {
   "cell_type": "code",
   "execution_count": 64,
   "metadata": {},
   "outputs": [
    {
     "name": "stdout",
     "output_type": "stream",
     "text": [
      "Estimating biases using als...\n",
      "number of items: 9990, number of users: 999\n",
      "1.00127314809\n"
     ]
    }
   ],
   "source": [
    "predict_baseline_test = baseline_surprise(train,test,None)"
   ]
  },
  {
   "cell_type": "code",
   "execution_count": 78,
   "metadata": {},
   "outputs": [
    {
     "name": "stdout",
     "output_type": "stream",
     "text": [
      "number of items: 9990, number of users: 999\n",
      "1.00185650691\n"
     ]
    }
   ],
   "source": [
    "predict_slop_test = slop_surprise(train, test, None)"
   ]
  },
  {
   "cell_type": "code",
   "execution_count": 12,
   "metadata": {},
   "outputs": [
    {
     "name": "stdout",
     "output_type": "stream",
     "text": [
      "learn the matrix factorization using SGD...\n",
      "iter: 0, RMSE on training set: 1.0072250403037464.\n",
      "iter: 1, RMSE on training set: 0.9862650810096528.\n",
      "iter: 2, RMSE on training set: 0.9767306594442242.\n",
      "iter: 3, RMSE on training set: 0.9672979369494857.\n",
      "iter: 4, RMSE on training set: 0.9595384374013362.\n",
      "iter: 5, RMSE on training set: 0.9550054005816746.\n",
      "iter: 6, RMSE on training set: 0.9491199322348344.\n",
      "iter: 7, RMSE on training set: 0.9444512792733896.\n",
      "iter: 8, RMSE on training set: 0.942024289337868.\n",
      "iter: 9, RMSE on training set: 0.9385325411263757.\n",
      "iter: 10, RMSE on training set: 0.9357894213885091.\n",
      "iter: 11, RMSE on training set: 0.9348966510151007.\n",
      "iter: 12, RMSE on training set: 0.9331614620107427.\n",
      "iter: 13, RMSE on training set: 0.9322803708923634.\n",
      "iter: 14, RMSE on training set: 0.9310106123605381.\n",
      "iter: 15, RMSE on training set: 0.9301341384037939.\n",
      "iter: 16, RMSE on training set: 0.9294004990629313.\n",
      "iter: 17, RMSE on training set: 0.9288423160143617.\n",
      "iter: 18, RMSE on training set: 0.9285075652584774.\n",
      "iter: 19, RMSE on training set: 0.9279656057940738.\n",
      "RMSE on test data: 0.9837803281828068.\n",
      "Wall time: 9min 48s\n"
     ]
    }
   ],
   "source": [
    "%%time\n",
    "predict_SGD_test = matrix_factorization_SGD(train, test, 0.025, 20, 0.1, 0.016)"
   ]
  },
  {
   "cell_type": "code",
   "execution_count": 103,
   "metadata": {},
   "outputs": [
    {
     "name": "stdout",
     "output_type": "stream",
     "text": [
      "\n",
      "start the ALS algorithm...\n",
      "RMSE on training set: 0.9683854696262746.\n",
      "RMSE on training set: 0.9636641888328061.\n",
      "RMSE on training set: 0.9622033086723247.\n",
      "RMSE on training set: 0.9610708830609189.\n",
      "RMSE on training set: 0.9600981287338146.\n",
      "RMSE on training set: 0.9593451001369316.\n",
      "RMSE on training set: 0.9588289719349584.\n",
      "RMSE on training set: 0.9585034014048226.\n",
      "RMSE on training set: 0.9583079650772224.\n",
      "RMSE on training set: 0.958193546877028.\n",
      "RMSE on training set: 0.9581268728266509.\n",
      "test RMSE after running ALS: 0.9940086593042198.\n",
      "\n",
      "start the ALS algorithm...\n",
      "RMSE on training set: 0.9405068064457816.\n",
      "RMSE on training set: 0.932032524723315.\n",
      "RMSE on training set: 0.9294776857135059.\n",
      "RMSE on training set: 0.9282718400452732.\n",
      "RMSE on training set: 0.9275919135533452.\n",
      "RMSE on training set: 0.9271625359773246.\n",
      "RMSE on training set: 0.9268674126525906.\n",
      "RMSE on training set: 0.9266502976014707.\n",
      "RMSE on training set: 0.9264817926749079.\n",
      "RMSE on training set: 0.9263460915281138.\n",
      "RMSE on training set: 0.9262344629043048.\n",
      "RMSE on training set: 0.9261416375128974.\n",
      "test RMSE after running ALS: 1.005356633851626.\n",
      "\n",
      "start the ALS algorithm...\n",
      "RMSE on training set: 0.9228272293711784.\n",
      "RMSE on training set: 0.9103515078923317.\n",
      "RMSE on training set: 0.90554578602.\n",
      "RMSE on training set: 0.9032435049044801.\n",
      "RMSE on training set: 0.90195616219578.\n",
      "RMSE on training set: 0.9011016926669704.\n",
      "RMSE on training set: 0.9004179739082426.\n",
      "RMSE on training set: 0.8997919232939842.\n",
      "RMSE on training set: 0.8992334618487599.\n",
      "RMSE on training set: 0.898806043393619.\n",
      "RMSE on training set: 0.8985088383205162.\n",
      "RMSE on training set: 0.8982967874058677.\n",
      "RMSE on training set: 0.898135173838632.\n",
      "RMSE on training set: 0.8980050844308932.\n",
      "RMSE on training set: 0.8978962938209727.\n",
      "RMSE on training set: 0.8978030459426916.\n",
      "test RMSE after running ALS: 1.0272471223467725.\n",
      "\n",
      "start the ALS algorithm...\n",
      "RMSE on training set: 0.8935766514847908.\n",
      "RMSE on training set: 0.876885071596267.\n",
      "RMSE on training set: 0.8690978641117513.\n",
      "RMSE on training set: 0.8645620226804961.\n",
      "RMSE on training set: 0.8614935355844765.\n",
      "RMSE on training set: 0.859059751666142.\n",
      "RMSE on training set: 0.8568517544776489.\n",
      "RMSE on training set: 0.8547179092948292.\n",
      "RMSE on training set: 0.8527607928067177.\n",
      "RMSE on training set: 0.8511660088459423.\n",
      "RMSE on training set: 0.8499757027805109.\n",
      "RMSE on training set: 0.8490933181990449.\n",
      "RMSE on training set: 0.8484084910014614.\n",
      "RMSE on training set: 0.8478529221398836.\n",
      "RMSE on training set: 0.8473906019337994.\n",
      "RMSE on training set: 0.8470003450634164.\n",
      "RMSE on training set: 0.8466668672550067.\n",
      "RMSE on training set: 0.8463781745197225.\n",
      "RMSE on training set: 0.8461250735923068.\n",
      "RMSE on training set: 0.8459007614327139.\n",
      "RMSE on training set: 0.845700218535021.\n",
      "RMSE on training set: 0.845519623703094.\n",
      "RMSE on training set: 0.8453559375087824.\n",
      "RMSE on training set: 0.845206689896406.\n",
      "RMSE on training set: 0.8450699283963606.\n",
      "RMSE on training set: 0.8449441761792705.\n",
      "RMSE on training set: 0.8448282912975479.\n",
      "RMSE on training set: 0.8447213496597267.\n",
      "RMSE on training set: 0.8446225884929045.\n",
      "test RMSE after running ALS: 1.1057461929146126.\n",
      "\n",
      "start the ALS algorithm...\n",
      "RMSE on training set: 0.8685875170398077.\n",
      "RMSE on training set: 0.8487314407932222.\n",
      "RMSE on training set: 0.8391433424700477.\n",
      "RMSE on training set: 0.8334403034968809.\n",
      "RMSE on training set: 0.8293014598848001.\n",
      "RMSE on training set: 0.8257350011820387.\n",
      "RMSE on training set: 0.8223720254184117.\n",
      "RMSE on training set: 0.8192320584419845.\n",
      "RMSE on training set: 0.8164497869405959.\n",
      "RMSE on training set: 0.8140799346592626.\n",
      "RMSE on training set: 0.812126672962624.\n",
      "RMSE on training set: 0.8105597006870914.\n",
      "RMSE on training set: 0.8093091493792266.\n",
      "RMSE on training set: 0.8082932885106366.\n",
      "RMSE on training set: 0.8074476098897791.\n",
      "RMSE on training set: 0.8067303834769064.\n",
      "RMSE on training set: 0.8061151951792326.\n",
      "RMSE on training set: 0.8055834872551657.\n",
      "RMSE on training set: 0.8051205756003436.\n",
      "RMSE on training set: 0.804714262483887.\n",
      "RMSE on training set: 0.804354469227123.\n",
      "RMSE on training set: 0.8040330784376041.\n",
      "RMSE on training set: 0.8037436999991051.\n",
      "RMSE on training set: 0.8034813479432027.\n",
      "RMSE on training set: 0.8032421149773483.\n",
      "RMSE on training set: 0.8030229098131842.\n",
      "RMSE on training set: 0.8028212700040634.\n",
      "RMSE on training set: 0.8026352249664905.\n",
      "RMSE on training set: 0.8024631824682699.\n",
      "RMSE on training set: 0.8023038292606746.\n",
      "RMSE on training set: 0.8021560495230079.\n",
      "RMSE on training set: 0.8020188670411726.\n",
      "RMSE on training set: 0.8018914109949471.\n",
      "RMSE on training set: 0.801772896846014.\n",
      "RMSE on training set: 0.8016626104928011.\n",
      "RMSE on training set: 0.8015598894505774.\n",
      "RMSE on training set: 0.8014641041488483.\n",
      "test RMSE after running ALS: 1.1826761880924135.\n",
      "Wall time: 40min 29s\n"
     ]
    },
    {
     "data": {
      "image/png": "[encoded data removed]",
      "text/plain": [
       "<matplotlib.figure.Figure at 0x2e2b53e65c0>"
      ]
     },
     "metadata": {},
     "output_type": "display_data"
    }
   ],
   "source": [
    "%%time\n",
    "k = [3,6,9,15,20]\n",
    "temp = []\n",
    "for i in k:\n",
    "    predict_ALS_test, rmse = ALS(train,test,i, 0.2, 0.9)\n",
    "    temp.append(rmse)\n",
    "error_visualization(parameter=k,rmse=temp,parameter_name='features')"
   ]
  },
  {
   "cell_type": "code",
   "execution_count": 84,
   "metadata": {},
   "outputs": [],
   "source": [
    "all_predictions_test = []\n",
    "all_predictions_test.append(predict_SGD_test)\n",
    "all_predictions_test.append(predict_ALS_test)\n",
    "all_predictions_test.append(predict_global_test)\n",
    "all_predictions_test.append(predict_SVD_test)\n",
    "all_predictions_test.append(predict_user_test)\n",
    "all_predictions_test.append(predict_item_test.reshape(9990,1))\n",
    "#all_predictions_test.append(predict_KNNuser_test)\n",
    "all_predictions_test.append(predict_KNNitem_test)\n",
    "all_predictions_test.append(predict_baseline_test)\n",
    "all_predictions_test.append(predict_slop_test)"
   ]
  },
  {
   "cell_type": "code",
   "execution_count": 25,
   "metadata": {},
   "outputs": [],
   "source": [
    "def const(x):\n",
    "    return x.sum() - 1\n",
    "constraint = {'type':'eq', 'fun': const}\n",
    "\n",
    "def sum_ratings(weights):\n",
    "    mix_prediction = 0\n",
    "    for i, pred in enumerate(all_predictions_test):\n",
    "        mix_prediction += weights[i] * pred\n",
    "    return compute_mix_error(test, nz=nnz_test, prediction=mix_prediction)\n"
   ]
  },
  {
   "cell_type": "code",
   "execution_count": 85,
   "metadata": {},
   "outputs": [
    {
     "name": "stdout",
     "output_type": "stream",
     "text": [
      "Wall time: 8min 52s\n"
     ]
    }
   ],
   "source": [
    "%%time\n",
    "x0 = [1/len(all_predictions_test)] * len(all_predictions_test)\n",
    "result = minimize(fun=sum_ratings, x0=x0)"
   ]
  },
  {
   "cell_type": "code",
   "execution_count": 86,
   "metadata": {},
   "outputs": [
    {
     "data": {
      "text/plain": [
       "      fun: 0.9783438797774957\n",
       " hess_inv: array([[  3.61795446e+01,  -1.22332982e+01,  -7.59384765e+00,\n",
       "         -4.50707243e+00,   7.08095679e+00,   6.75685887e+00,\n",
       "         -1.10723045e+01,   4.60003977e-01,  -1.44380023e+01],\n",
       "       [ -1.22332982e+01,   2.37321970e+01,   2.40183381e+00,\n",
       "         -4.86570764e+00,  -2.52444956e+00,  -1.81612336e+00,\n",
       "         -5.53381850e+00,   3.23693668e+00,  -2.62609856e+00],\n",
       "       [ -7.59384765e+00,   2.40183381e+00,   8.53220321e+01,\n",
       "          1.84488225e+00,  -8.61062079e+01,  -8.23853539e+01,\n",
       "          7.44698569e+00,   7.94387734e+01,  -5.13012857e-01],\n",
       "       [ -4.50707243e+00,  -4.86570764e+00,   1.84488225e+00,\n",
       "          1.86124642e+01,  -2.95533571e-01,  -2.32854565e+00,\n",
       "         -2.76289146e+00,  -1.37255060e+01,   8.09006459e+00],\n",
       "       [  7.08095679e+00,  -2.52444956e+00,  -8.61062079e+01,\n",
       "         -2.95533571e-01,   1.06644288e+02,   8.58492252e+01,\n",
       "         -5.05412269e+00,  -1.47234701e+02,   4.19003898e+01],\n",
       "       [  6.75685887e+00,  -1.81612336e+00,  -8.23853539e+01,\n",
       "         -2.32854565e+00,   8.58492252e+01,   8.50563076e+01,\n",
       "         -7.15016717e+00,  -1.00781626e+02,   1.70068472e+01],\n",
       "       [ -1.10723045e+01,  -5.53381850e+00,   7.44698569e+00,\n",
       "         -2.76289146e+00,  -5.05412269e+00,  -7.15016717e+00,\n",
       "          3.80982369e+01,  -1.96040864e+01,   5.34405282e+00],\n",
       "       [  4.60003977e-01,   3.23693668e+00,   7.94387734e+01,\n",
       "         -1.37255060e+01,  -1.47234701e+02,  -1.00781626e+02,\n",
       "         -1.96040864e+01,   5.47914946e+02,  -3.50281270e+02],\n",
       "       [ -1.44380023e+01,  -2.62609856e+00,  -5.13012857e-01,\n",
       "          8.09006459e+00,   4.19003898e+01,   1.70068472e+01,\n",
       "          5.34405282e+00,  -3.50281270e+02,   2.95671387e+02]])\n",
       "      jac: array([  2.42888927e-06,  -1.08778477e-06,  -5.14090061e-07,\n",
       "        -6.92903996e-07,  -1.10268593e-06,  -1.08778477e-06,\n",
       "        -2.94297934e-06,   4.91738319e-07,   3.17394733e-06])\n",
       "  message: 'Optimization terminated successfully.'\n",
       "     nfev: 627\n",
       "      nit: 52\n",
       "     njev: 57\n",
       "   status: 0\n",
       "  success: True\n",
       "        x: array([ 0.65726733,  0.15261234,  0.04553727,  0.02355253,  0.08571322,\n",
       "       -0.06155977,  0.40580344, -0.27994905, -0.0198324 ])"
      ]
     },
     "execution_count": 86,
     "metadata": {},
     "output_type": "execute_result"
    }
   ],
   "source": [
    "result"
   ]
  },
  {
   "cell_type": "code",
   "execution_count": 30,
   "metadata": {},
   "outputs": [
    {
     "name": "stdout",
     "output_type": "stream",
     "text": [
      "learn the matrix factorization using SGD...\n",
      "iter: 0, RMSE on training set: 1.0077772298209096.\n",
      "iter: 1, RMSE on training set: 0.9874673516781461.\n",
      "iter: 2, RMSE on training set: 0.9791561652451246.\n",
      "iter: 3, RMSE on training set: 0.9664854276673659.\n",
      "iter: 4, RMSE on training set: 0.9610236928318937.\n",
      "iter: 5, RMSE on training set: 0.954404504289041.\n",
      "iter: 6, RMSE on training set: 0.9488151382781861.\n",
      "iter: 7, RMSE on training set: 0.9452445470249833.\n",
      "iter: 8, RMSE on training set: 0.943220172534005.\n",
      "iter: 9, RMSE on training set: 0.9399309085295714.\n",
      "iter: 10, RMSE on training set: 0.9376427161456169.\n",
      "iter: 11, RMSE on training set: 0.9354976058218751.\n",
      "iter: 12, RMSE on training set: 0.9346211851133333.\n",
      "iter: 13, RMSE on training set: 0.9331561430962585.\n",
      "iter: 14, RMSE on training set: 0.9324180663798682.\n",
      "iter: 15, RMSE on training set: 0.9316265109403438.\n",
      "iter: 16, RMSE on training set: 0.931242025192296.\n",
      "iter: 17, RMSE on training set: 0.930194470150342.\n",
      "iter: 18, RMSE on training set: 0.9297564503768035.\n",
      "iter: 19, RMSE on training set: 0.9295812228506292.\n",
      "\n",
      "start the ALS algorithm...\n",
      "RMSE on training set: 0.9697751806835305.\n",
      "RMSE on training set: 0.9652521967234385.\n",
      "RMSE on training set: 0.9637298175089041.\n",
      "RMSE on training set: 0.9625029911692241.\n",
      "RMSE on training set: 0.96151340878739.\n",
      "RMSE on training set: 0.9608201400665092.\n",
      "RMSE on training set: 0.9603902940452437.\n",
      "RMSE on training set: 0.9601438316572578.\n",
      "RMSE on training set: 0.9600078549084466.\n",
      "RMSE on training set: 0.9599332982742421.\n",
      "Wall time: 15min 32s\n"
     ]
    }
   ],
   "source": [
    "%%time\n",
    "predict_global = baseline_global_mean(ratings, None)\n",
    "predict_user = np.array(baseline_user_mean(ratings, None))\n",
    "predict_item = np.array(baseline_item_mean(ratings,None)).reshape(10000,1)\n",
    "predict_SGD = matrix_factorization_SGD(ratings,None, 0.025, 20, 0.1, 0.016)\n",
    "predict_ALS = ALS(ratings,None, 3, 0.2, 0.9)\n"
   ]
  },
  {
   "cell_type": "code",
   "execution_count": 31,
   "metadata": {},
   "outputs": [
    {
     "name": "stdout",
     "output_type": "stream",
     "text": [
      "number of items: 10000, number of users: 1000\n"
     ]
    }
   ],
   "source": [
    "to_predict = get_to_predict()\n",
    "predict_SVD = svd_surprise(ratings, None, to_predict )"
   ]
  },
  {
   "cell_type": "code",
   "execution_count": 54,
   "metadata": {},
   "outputs": [
    {
     "name": "stdout",
     "output_type": "stream",
     "text": [
      "Estimating biases using als...\n",
      "Computing the pearson_baseline similarity matrix...\n",
      "Done computing similarity matrix.\n",
      "train\n",
      "yes\n",
      "wtf\n",
      "number of items: 10000, number of users: 1000\n"
     ]
    }
   ],
   "source": [
    "predict_KNNitem = knn_surprise(ratings, None, to_predict, False)"
   ]
  },
  {
   "cell_type": "code",
   "execution_count": 68,
   "metadata": {},
   "outputs": [
    {
     "name": "stdout",
     "output_type": "stream",
     "text": [
      "Estimating biases using als...\n",
      "number of items: 10000, number of users: 1000\n"
     ]
    }
   ],
   "source": [
    "predict_baseline = baseline_surprise(ratings, None, to_predict)"
   ]
  },
  {
   "cell_type": "code",
   "execution_count": 98,
   "metadata": {},
   "outputs": [
    {
     "name": "stdout",
     "output_type": "stream",
     "text": [
      "number of items: 10000, number of users: 1000\n"
     ]
    }
   ],
   "source": [
    "predict_slop = slop_surprise(ratings, None, to_predict)"
   ]
  },
  {
   "cell_type": "code",
   "execution_count": 99,
   "metadata": {},
   "outputs": [],
   "source": [
    "all_predictions = []\n",
    "all_predictions.append(predict_SGD)\n",
    "all_predictions.append(predict_ALS)\n",
    "all_predictions.append(predict_global)\n",
    "all_predictions.append(predict_SVD)\n",
    "all_predictions.append(predict_user)\n",
    "all_predictions.append(predict_item.reshape(10000,1))\n",
    "all_predictions.append(predict_KNNitem)\n",
    "all_predictions.append(predict_baseline)\n",
    "all_predictions.append(predict_slop)"
   ]
  },
  {
   "cell_type": "code",
   "execution_count": 97,
   "metadata": {},
   "outputs": [
    {
     "data": {
      "text/plain": [
       "9"
      ]
     },
     "execution_count": 97,
     "metadata": {},
     "output_type": "execute_result"
    }
   ],
   "source": [
    "len(result.x)"
   ]
  },
  {
   "cell_type": "code",
   "execution_count": 100,
   "metadata": {},
   "outputs": [],
   "source": [
    "final_predict = 0\n",
    "for i, pred in enumerate(all_predictions):\n",
    "    final_predict += result.x[i] * pred"
   ]
  },
  {
   "cell_type": "code",
   "execution_count": 101,
   "metadata": {},
   "outputs": [],
   "source": [
    "final_predict[final_predict<1] = 1\n",
    "final_predict[final_predict>5] = 5"
   ]
  },
  {
   "cell_type": "code",
   "execution_count": 102,
   "metadata": {},
   "outputs": [],
   "source": [
    "create_csv_submissions(final_predict)"
   ]
  },
  {
   "cell_type": "code",
   "execution_count": 73,
   "metadata": {},
   "outputs": [
    {
     "data": {
      "text/plain": [
       "(10000, 1000)"
      ]
     },
     "execution_count": 73,
     "metadata": {},
     "output_type": "execute_result"
    }
   ],
   "source": [
    "final_predict.shape"
   ]
  }
 ],
 "metadata": {
  "kernelspec": {
   "display_name": "Python 3",
   "language": "python",
   "name": "python3"
  },
  "language_info": {
   "codemirror_mode": {
    "name": "ipython",
    "version": 3
   },
   "file_extension": ".py",
   "mimetype": "text/x-python",
   "name": "python",
   "nbconvert_exporter": "python",
   "pygments_lexer": "ipython3",
   "version": "3.6.3"
  }
 },
 "nbformat": 4,
 "nbformat_minor": 2
}
