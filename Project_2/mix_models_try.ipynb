{
 "cells": [
  {
   "cell_type": "code",
   "execution_count": 2,
   "metadata": {},
   "outputs": [],
   "source": [
    "%matplotlib inline\n",
    "import csv\n",
    "import pandas as pd\n",
    "import scipy.sparse as sc\n",
    "from helpers import *\n",
    "from sgd import *\n",
    "from als import *\n",
    "from sklearn import decomposition\n",
    "from scipy.optimize import minimize\n",
    "from models import *\n",
    "%load_ext autoreload\n",
    "%autoreload 2"
   ]
  },
  {
   "cell_type": "code",
   "execution_count": 3,
   "metadata": {},
   "outputs": [
    {
     "name": "stdout",
     "output_type": "stream",
     "text": [
      "number of items: 10000, number of users: 1000\n"
     ]
    }
   ],
   "source": [
    "ratings = load_data('data_train.csv')"
   ]
  },
  {
   "cell_type": "code",
   "execution_count": 4,
   "metadata": {
    "collapsed": true
   },
   "outputs": [],
   "source": [
    "num_items_per_user = np.array((ratings != 0).sum(axis=0)).flatten()\n",
    "num_users_per_item = np.array((ratings != 0).sum(axis=1).T).flatten()"
   ]
  },
  {
   "cell_type": "code",
   "execution_count": 5,
   "metadata": {},
   "outputs": [
    {
     "name": "stdout",
     "output_type": "stream",
     "text": [
      "the shape of original ratings. (# of row, # of col): (10000, 1000)\n",
      "the shape of valid ratings. (# of row, # of col): (9990, 999)\n",
      "Total number of nonzero elements in origial data:1176952\n",
      "Total number of nonzero elements in train data:1065253\n",
      "Total number of nonzero elements in test data:111620\n"
     ]
    }
   ],
   "source": [
    "_,train, test = split_data(ratings, num_items_per_user, num_users_per_item, 10, 0.1)"
   ]
  },
  {
   "cell_type": "code",
   "execution_count": 12,
   "metadata": {
    "collapsed": true
   },
   "outputs": [],
   "source": [
    "nnz_row, nnz_col = test.nonzero()\n",
    "nnz_test = list(zip(nnz_row, nnz_col))"
   ]
  },
  {
   "cell_type": "code",
   "execution_count": 7,
   "metadata": {},
   "outputs": [
    {
     "name": "stdout",
     "output_type": "stream",
     "text": [
      "test RMSE of baseline using the global mean: [[ 1.12152228]].\n"
     ]
    },
    {
     "data": {
      "text/plain": [
       "3.8581107023810133"
      ]
     },
     "execution_count": 7,
     "metadata": {},
     "output_type": "execute_result"
    }
   ],
   "source": [
    "predict_global = baseline_global_mean(train, test)\n",
    "predict_global"
   ]
  },
  {
   "cell_type": "code",
   "execution_count": 8,
   "metadata": {},
   "outputs": [
    {
     "name": "stdout",
     "output_type": "stream",
     "text": [
      "(9990, 999)\n",
      "learn the matrix factorization using SGD...\n",
      "iter: 0, RMSE on training set: 0.9975633866643219.\n",
      "iter: 1, RMSE on training set: 0.98399317335416.\n",
      "iter: 2, RMSE on training set: 0.977559146774514.\n",
      "iter: 3, RMSE on training set: 0.973302024837026.\n",
      "iter: 4, RMSE on training set: 0.9697063269801259.\n",
      "iter: 5, RMSE on training set: 0.9684855523087732.\n",
      "iter: 6, RMSE on training set: 0.9652848076933224.\n",
      "iter: 7, RMSE on training set: 0.9637783260052316.\n",
      "iter: 8, RMSE on training set: 0.9623884166935112.\n",
      "iter: 9, RMSE on training set: 0.9610078532191024.\n",
      "iter: 10, RMSE on training set: 0.9598546211932161.\n",
      "iter: 11, RMSE on training set: 0.9594652752124836.\n",
      "iter: 12, RMSE on training set: 0.9587680183976469.\n",
      "iter: 13, RMSE on training set: 0.9583004685120122.\n",
      "iter: 14, RMSE on training set: 0.9579096792154936.\n",
      "iter: 15, RMSE on training set: 0.9575326248832436.\n",
      "iter: 16, RMSE on training set: 0.9572602341203271.\n",
      "iter: 17, RMSE on training set: 0.9569018531988474.\n",
      "iter: 18, RMSE on training set: 0.9568327914159268.\n",
      "iter: 19, RMSE on training set: 0.956663130924017.\n",
      "RMSE on test data: 0.9888466197080255.\n"
     ]
    }
   ],
   "source": [
    "print(train.shape)\n",
    "predict_SGD = matrix_factorization_SGD(train, test)"
   ]
  },
  {
   "cell_type": "code",
   "execution_count": 9,
   "metadata": {},
   "outputs": [
    {
     "name": "stdout",
     "output_type": "stream",
     "text": [
      "\n",
      "start the ALS algorithm...\n",
      "RMSE on training set: 0.9683854696262746.\n",
      "RMSE on training set: 0.9636641888328061.\n",
      "RMSE on training set: 0.9622033086723247.\n",
      "RMSE on training set: 0.9610708830609189.\n",
      "RMSE on training set: 0.9600981287338146.\n",
      "RMSE on training set: 0.9593451001369316.\n",
      "RMSE on training set: 0.9588289719349584.\n",
      "RMSE on training set: 0.9585034014048226.\n",
      "RMSE on training set: 0.9583079650772224.\n",
      "RMSE on training set: 0.958193546877028.\n",
      "RMSE on training set: 0.9581268728266509.\n",
      "test RMSE after running ALS: 0.9940086593042198.\n"
     ]
    }
   ],
   "source": [
    "predict_ALS = ALS(train,test,3, 0.2, 0.9)"
   ]
  },
  {
   "cell_type": "code",
   "execution_count": 13,
   "metadata": {
    "collapsed": true
   },
   "outputs": [],
   "source": [
    "def const(x):\n",
    "    return x.sum() - 1\n",
    "constraint = {'type':'eq', 'fun': const}\n",
    "\n",
    "def sum_ratings(weights):\n",
    "    mix_prediction = weights[0] * predict_SGD + weights[1] * predict_ALS + weights[2] * predict_global\n",
    "    return compute_mix_error(test, nz=nnz_test, prediction=mix_prediction)\n"
   ]
  },
  {
   "cell_type": "code",
   "execution_count": 16,
   "metadata": {},
   "outputs": [],
   "source": [
    "result = minimize(fun=sum_ratings, x0=[0.33, 0.33, 0.33])"
   ]
  },
  {
   "cell_type": "code",
   "execution_count": 17,
   "metadata": {},
   "outputs": [
    {
     "data": {
      "text/plain": [
       "      fun: 0.98300020764034\n",
       " hess_inv: array([[  2.58353985e+01,  -2.17302627e+01,  -3.47105888e+00],\n",
       "       [ -2.17302627e+01,   2.12120474e+01,  -1.52044929e-02],\n",
       "       [ -3.47105888e+00,  -1.52044929e-02,   3.46331025e+00]])\n",
       "      jac: array([ -5.33461571e-06,  -5.58793545e-06,  -5.53578138e-06])\n",
       "  message: 'Optimization terminated successfully.'\n",
       "     nfev: 80\n",
       "      nit: 14\n",
       "     njev: 16\n",
       "   status: 0\n",
       "  success: True\n",
       "        x: array([ 0.70057756,  0.31197472,  0.00211984])"
      ]
     },
     "execution_count": 17,
     "metadata": {},
     "output_type": "execute_result"
    }
   ],
   "source": [
    "result"
   ]
  },
  {
   "cell_type": "code",
   "execution_count": 18,
   "metadata": {},
   "outputs": [
    {
     "name": "stdout",
     "output_type": "stream",
     "text": [
      "learn the matrix factorization using SGD...\n",
      "iter: 0, RMSE on training set: 0.997560255008501.\n",
      "iter: 1, RMSE on training set: 0.9842293566398914.\n",
      "iter: 2, RMSE on training set: 0.9780387061695399.\n",
      "iter: 3, RMSE on training set: 0.9723799399467854.\n",
      "iter: 4, RMSE on training set: 0.969301806280314.\n",
      "iter: 5, RMSE on training set: 0.9667096170339626.\n",
      "iter: 6, RMSE on training set: 0.964171308803295.\n",
      "iter: 7, RMSE on training set: 0.9629057008668301.\n",
      "iter: 8, RMSE on training set: 0.9620649935787686.\n",
      "iter: 9, RMSE on training set: 0.9603911798400415.\n",
      "iter: 10, RMSE on training set: 0.959463560281415.\n",
      "iter: 11, RMSE on training set: 0.9585125420480426.\n",
      "iter: 12, RMSE on training set: 0.9581533270460627.\n",
      "iter: 13, RMSE on training set: 0.957696042239014.\n",
      "iter: 14, RMSE on training set: 0.9571881375998007.\n",
      "iter: 15, RMSE on training set: 0.9567520143874916.\n",
      "iter: 16, RMSE on training set: 0.9566212727648964.\n",
      "iter: 17, RMSE on training set: 0.9561960422110439.\n",
      "iter: 18, RMSE on training set: 0.9560632533981644.\n",
      "iter: 19, RMSE on training set: 0.956011603975843.\n",
      "\n",
      "start the ALS algorithm...\n",
      "RMSE on training set: 0.9697751806835305.\n",
      "RMSE on training set: 0.9652521967234385.\n",
      "RMSE on training set: 0.9637298175089041.\n",
      "RMSE on training set: 0.9625029911692241.\n",
      "RMSE on training set: 0.96151340878739.\n",
      "RMSE on training set: 0.9608201400665092.\n",
      "RMSE on training set: 0.9603902940452437.\n",
      "RMSE on training set: 0.9601438316572578.\n",
      "RMSE on training set: 0.9600078549084466.\n",
      "RMSE on training set: 0.9599332982742421.\n"
     ]
    }
   ],
   "source": [
    "predict_global = baseline_global_mean(ratings, None)\n",
    "predict_SGD = matrix_factorization_SGD(ratings,None)\n",
    "predict_ALS = ALS(ratings,None, 3, 0.2, 0.9)"
   ]
  },
  {
   "cell_type": "code",
   "execution_count": 19,
   "metadata": {
    "collapsed": true
   },
   "outputs": [],
   "source": [
    "final_predict = result.x[0] * predict_SGD + result.x[1] * predict_ALS + result.x[2] * predict_global"
   ]
  },
  {
   "cell_type": "code",
   "execution_count": 20,
   "metadata": {
    "collapsed": true
   },
   "outputs": [],
   "source": [
    "final_predict[final_predict<1] = 1\n",
    "final_predict[final_predict>5] = 5"
   ]
  },
  {
   "cell_type": "code",
   "execution_count": 21,
   "metadata": {
    "collapsed": true
   },
   "outputs": [],
   "source": [
    "create_csv_submissions(final_predict)"
   ]
  },
  {
   "cell_type": "code",
   "execution_count": 22,
   "metadata": {},
   "outputs": [
    {
     "data": {
      "text/plain": [
       "(10000, 1000)"
      ]
     },
     "execution_count": 22,
     "metadata": {},
     "output_type": "execute_result"
    }
   ],
   "source": [
    "final_predict.shape"
   ]
  }
 ],
 "metadata": {
  "kernelspec": {
   "display_name": "Python 3",
   "language": "python",
   "name": "python3"
  },
  "language_info": {
   "codemirror_mode": {
    "name": "ipython",
    "version": 3
   },
   "file_extension": ".py",
   "mimetype": "text/x-python",
   "name": "python",
   "nbconvert_exporter": "python",
   "pygments_lexer": "ipython3",
   "version": "3.6.3"
  }
 },
 "nbformat": 4,
 "nbformat_minor": 2
}
