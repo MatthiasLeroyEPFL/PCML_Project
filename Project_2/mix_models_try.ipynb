{
 "cells": [
  {
   "cell_type": "code",
   "execution_count": 48,
   "metadata": {},
   "outputs": [
    {
     "name": "stdout",
     "output_type": "stream",
     "text": [
      "The autoreload extension is already loaded. To reload it, use:\n",
      "  %reload_ext autoreload\n"
     ]
    }
   ],
   "source": [
    "%matplotlib inline\n",
    "import csv\n",
    "import pandas as pd\n",
    "import scipy.sparse as sc\n",
    "from helpers import *\n",
    "from sgd import *\n",
    "from als import *\n",
    "from sklearn import decomposition\n",
    "from scipy.optimize import minimize\n",
    "from models import *\n",
    "from plot import *\n",
    "%load_ext autoreload\n",
    "%autoreload 2"
   ]
  },
  {
   "cell_type": "code",
   "execution_count": 49,
   "metadata": {},
   "outputs": [],
   "source": [
    "ratings = load_data('data_train.csv')"
   ]
  },
  {
   "cell_type": "code",
   "execution_count": 50,
   "metadata": {},
   "outputs": [],
   "source": [
    "num_items_per_user = np.array((ratings != 0).sum(axis=0)).flatten()\n",
    "num_users_per_item = np.array((ratings != 0).sum(axis=1).T).flatten()"
   ]
  },
  {
   "cell_type": "code",
   "execution_count": 51,
   "metadata": {},
   "outputs": [
    {
     "name": "stdout",
     "output_type": "stream",
     "text": [
      "the shape of original ratings. (# of row, # of col): (10000, 1000)\n",
      "the shape of valid ratings. (# of row, # of col): (9990, 999)\n",
      "Total number of nonzero elements in origial data:1176952\n",
      "Total number of nonzero elements in train data:1065253\n",
      "Total number of nonzero elements in test data:111620\n"
     ]
    }
   ],
   "source": [
    "_,train, test = split_data(ratings, num_items_per_user, num_users_per_item, 10, 0.1)"
   ]
  },
  {
   "cell_type": "code",
   "execution_count": 52,
   "metadata": {},
   "outputs": [],
   "source": [
    "nnz_row, nnz_col = test.nonzero()\n",
    "nnz_test = list(zip(nnz_row, nnz_col))"
   ]
  },
  {
   "cell_type": "code",
   "execution_count": 53,
   "metadata": {},
   "outputs": [
    {
     "name": "stdout",
     "output_type": "stream",
     "text": [
      "test RMSE of the baseline using the item mean: [[ 1.09633198]].\n"
     ]
    }
   ],
   "source": [
    "predict_item_test = np.array(baseline_item_mean(train,test))"
   ]
  },
  {
   "cell_type": "code",
   "execution_count": 54,
   "metadata": {},
   "outputs": [
    {
     "name": "stdout",
     "output_type": "stream",
     "text": [
      "test RMSE of the baseline using the user mean: [[ 1.03317038]].\n"
     ]
    }
   ],
   "source": [
    "predict_user_test = np.array(baseline_user_mean(train, test))"
   ]
  },
  {
   "cell_type": "code",
   "execution_count": 55,
   "metadata": {},
   "outputs": [
    {
     "name": "stdout",
     "output_type": "stream",
     "text": [
      "test RMSE of baseline using the global mean: [[ 1.12152228]].\n"
     ]
    },
    {
     "data": {
      "text/plain": [
       "3.8581107023810133"
      ]
     },
     "execution_count": 55,
     "metadata": {},
     "output_type": "execute_result"
    }
   ],
   "source": [
    "predict_global_test = baseline_global_mean(train, test)\n",
    "predict_global_test"
   ]
  },
  {
   "cell_type": "code",
   "execution_count": 93,
   "metadata": {},
   "outputs": [],
   "source": [
    "\n",
    "\n",
    "def svd_surprise_test(train, test, target, factors=20):\n",
    "    \n",
    "    train_df = create_data(train)\n",
    "    reader = surprise.dataset.Reader(rating_scale=(1,5))\n",
    "    data = Dataset.load_from_df(train_df[['row', 'col', 'rate']], reader)\n",
    "    data.split(2) \n",
    "    \n",
    "    algo = SVD(n_factors=factors)\n",
    "    algo.train(data.build_full_trainset())\n",
    "    \n",
    "    return get_prediction_surprise(algo, train_df, test, target)\n"
   ]
  },
  {
   "cell_type": "code",
   "execution_count": 98,
   "metadata": {},
   "outputs": [
    {
     "name": "stdout",
     "output_type": "stream",
     "text": [
      "1.00044285488\n"
     ]
    }
   ],
   "source": [
    "predict_SVD_test, rmse = svd_surprise_test(train, test, None, 10)"
   ]
  },
  {
   "cell_type": "code",
   "execution_count": 83,
   "metadata": {},
   "outputs": [
    {
     "name": "stdout",
     "output_type": "stream",
     "text": [
      "1.00345952803\n"
     ]
    }
   ],
   "source": [
    "predict_SVD_test, rmse = svd_surprise(train, test, None, 10)\n",
    "predict_SVD_test[predict_SVD_test < 1] = 1\n",
    "predict_SVD_test[predict_SVD_test > 5] = 5"
   ]
  },
  {
   "cell_type": "code",
   "execution_count": 57,
   "metadata": {},
   "outputs": [
    {
     "name": "stdout",
     "output_type": "stream",
     "text": [
      "Estimating biases using als...\n",
      "Computing the pearson_baseline similarity matrix...\n",
      "Done computing similarity matrix.\n",
      "0.988904728304\n"
     ]
    }
   ],
   "source": [
    "predict_KNNitem_test, rmse = knn_surprise(train,test,None,False, 100)\n",
    "predict_KNNitem_test[predict_KNNitem_test < 1] = 1\n",
    "predict_KNNitem_test[predict_KNNitem_test > 5] = 5"
   ]
  },
  {
   "cell_type": "code",
   "execution_count": 58,
   "metadata": {},
   "outputs": [
    {
     "name": "stdout",
     "output_type": "stream",
     "text": [
      "Estimating biases using als...\n",
      "1.00127314809\n"
     ]
    }
   ],
   "source": [
    "predict_baseline_test = baseline_surprise(train,test,None)\n",
    "predict_baseline_test[predict_baseline_test > 5] = 5\n",
    "predict_baseline_test[predict_baseline_test < 1] = 1"
   ]
  },
  {
   "cell_type": "code",
   "execution_count": 59,
   "metadata": {},
   "outputs": [
    {
     "name": "stdout",
     "output_type": "stream",
     "text": [
      "1.00185650691\n"
     ]
    }
   ],
   "source": [
    "predict_slope_test = slope_surprise(train, test, None)\n",
    "predict_slope_test[predict_slope_test > 5] = 5\n",
    "predict_slope_test[predict_slope_test < 1] = 1"
   ]
  },
  {
   "cell_type": "code",
   "execution_count": 60,
   "metadata": {},
   "outputs": [
    {
     "name": "stdout",
     "output_type": "stream",
     "text": [
      "RMSE on test data: 0.9837803281828068.\n",
      "Wall time: 8min 53s\n"
     ]
    }
   ],
   "source": [
    "%%time\n",
    "predict_SGD_test, rmse = matrix_factorization_SGD(train, test, 0.025, 20, 0.1, 0.016)\n",
    "predict_SGD_test[predict_SGD_test > 5] = 5\n",
    "predict_SGD_test[predict_SGD_test < 1] = 1"
   ]
  },
  {
   "cell_type": "code",
   "execution_count": 61,
   "metadata": {},
   "outputs": [
    {
     "name": "stdout",
     "output_type": "stream",
     "text": [
      "number of iterations:  1\n",
      "number of iterations:  2\n",
      "number of iterations:  3\n",
      "number of iterations:  4\n",
      "number of iterations:  5\n",
      "number of iterations:  6\n",
      "number of iterations:  7\n",
      "number of iterations:  8\n",
      "number of iterations:  9\n",
      "number of iterations:  10\n",
      "number of iterations:  11\n",
      "test RMSE after running ALS: 0.9940086593042198.\n",
      "Wall time: 3min 48s\n"
     ]
    }
   ],
   "source": [
    "%%time\n",
    "predict_ALS_test, rmse = ALS(train,test,3, 0.2, 0.9)\n",
    "predict_ALS_test[predict_ALS_test > 5] = 5\n",
    "predict_ALS_test[predict_ALS_test < 1] = 1"
   ]
  },
  {
   "cell_type": "code",
   "execution_count": 84,
   "metadata": {},
   "outputs": [],
   "source": [
    "all_predictions_test = []\n",
    "all_predictions_test.append(predict_SGD_test)\n",
    "all_predictions_test.append(predict_ALS_test)\n",
    "all_predictions_test.append(predict_global_test)\n",
    "all_predictions_test.append(predict_SVD_test)\n",
    "all_predictions_test.append(predict_user_test)\n",
    "all_predictions_test.append(predict_item_test.reshape(9990,1))\n",
    "all_predictions_test.append(predict_KNNitem_test)\n",
    "all_predictions_test.append(predict_baseline_test)\n",
    "all_predictions_test.append(predict_slope_test)"
   ]
  },
  {
   "cell_type": "code",
   "execution_count": 63,
   "metadata": {},
   "outputs": [],
   "source": [
    "def const(x):\n",
    "    return x.sum() - 1\n",
    "constraint = {'type':'eq', 'fun': const}\n",
    "\n",
    "def sum_ratings(weights):\n",
    "    mix_prediction = 0\n",
    "    for i, pred in enumerate(all_predictions_test):\n",
    "        mix_prediction += weights[i] * pred\n",
    "    mix_prediction[mix_prediction > 5] = 5\n",
    "    mix_prediction[mix_prediction < 1] = 1\n",
    "    return compute_mix_error(test, nz=nnz_test, prediction=mix_prediction)\n"
   ]
  },
  {
   "cell_type": "code",
   "execution_count": 85,
   "metadata": {},
   "outputs": [
    {
     "name": "stdout",
     "output_type": "stream",
     "text": [
      "Wall time: 8min 58s\n"
     ]
    }
   ],
   "source": [
    "%%time\n",
    "x0 = [1/len(all_predictions_test)] * len(all_predictions_test)\n",
    "result = minimize(fun=sum_ratings, x0=x0)"
   ]
  },
  {
   "cell_type": "code",
   "execution_count": 86,
   "metadata": {},
   "outputs": [
    {
     "data": {
      "text/plain": [
       "      fun: 0.9782640927574934\n",
       " hess_inv: array([[  36.08833014,  -12.71034799,   -7.37971193,   -5.2022471 ,\n",
       "           7.48960465,    6.89882479,  -11.61393268,   -5.22088393,\n",
       "          -7.71584501],\n",
       "       [ -12.71034799,   23.59700701,    1.47438163,   -4.5661592 ,\n",
       "          -2.6099633 ,   -1.39209188,   -6.04379766,    7.94479478,\n",
       "          -5.94815812],\n",
       "       [  -7.37971193,    1.47438163,   84.99445698,    4.25813016,\n",
       "         -86.80326384,  -83.12691086,    5.93459048,   85.42525424,\n",
       "          -4.892919  ],\n",
       "       [  -5.2022471 ,   -4.5661592 ,    4.25813016,   29.48962273,\n",
       "          -0.61958235,   -4.93757946,   -2.39151744,  -27.12832912,\n",
       "          11.25399388],\n",
       "       [   7.48960465,   -2.6099633 ,  -86.80326384,   -0.61958235,\n",
       "         109.23756507,   87.80924676,   -4.53603861, -159.42551919,\n",
       "          49.71462127],\n",
       "       [   6.89882479,   -1.39209188,  -83.12691086,   -4.93757946,\n",
       "          87.80924676,   86.80247496,   -6.29750026, -108.53925669,\n",
       "          22.96957302],\n",
       "       [ -11.61393268,   -6.04379766,    5.93459048,   -2.39151744,\n",
       "          -4.53603861,   -6.29750026,   37.19887417,  -10.67375436,\n",
       "          -1.88860172],\n",
       "       [  -5.22088393,    7.94479478,   85.42525424,  -27.12832912,\n",
       "        -159.42551919, -108.53925669,  -10.67375436,  601.47844776,\n",
       "        -384.64745653],\n",
       "       [  -7.71584501,   -5.94815812,   -4.892919  ,   11.25399388,\n",
       "          49.71462127,   22.96957302,   -1.88860172, -384.64745653,\n",
       "         321.4684502 ]])\n",
       "      jac: array([  3.20374966e-07,  -2.08616257e-07,   2.38418579e-07,\n",
       "        -2.23517418e-07,  -3.87430191e-07,  -3.57627869e-07,\n",
       "        -8.27014446e-07,  -1.26659870e-07,   4.24683094e-07])\n",
       "  message: 'Optimization terminated successfully.'\n",
       "     nfev: 671\n",
       "      nit: 57\n",
       "     njev: 61\n",
       "   status: 0\n",
       "  success: True\n",
       "        x: array([ 0.6606293 ,  0.155485  ,  0.04616225,  0.04531555,  0.08127007,\n",
       "       -0.06675145,  0.40258731, -0.28565113, -0.02940758])"
      ]
     },
     "execution_count": 86,
     "metadata": {},
     "output_type": "execute_result"
    }
   ],
   "source": [
    "result"
   ]
  },
  {
   "cell_type": "code",
   "execution_count": 66,
   "metadata": {},
   "outputs": [
    {
     "name": "stdout",
     "output_type": "stream",
     "text": [
      "number of iterations:  1\n",
      "number of iterations:  2\n",
      "number of iterations:  3\n",
      "number of iterations:  4\n",
      "number of iterations:  5\n",
      "number of iterations:  6\n",
      "number of iterations:  7\n",
      "number of iterations:  8\n",
      "number of iterations:  9\n",
      "number of iterations:  10\n",
      "Wall time: 14min 33s\n"
     ]
    }
   ],
   "source": [
    "%%time\n",
    "predict_global = baseline_global_mean(ratings, None)\n",
    "predict_user = np.array(baseline_user_mean(ratings, None))\n",
    "predict_item = np.array(baseline_item_mean(ratings,None)).reshape(10000,1)\n",
    "predict_SGD = matrix_factorization_SGD(ratings,None, 0.025, 20, 0.1, 0.016)\n",
    "predict_SGD[predict_SGD > 5] = 5\n",
    "predict_SGD[predict_SGD < 1] = 1\n",
    "predict_ALS = ALS(ratings,None, 3, 0.2, 0.9)\n",
    "predict_ALS[predict_ALS > 5] = 5\n",
    "predict_ALS[predict_ALS < 1] = 1"
   ]
  },
  {
   "cell_type": "code",
   "execution_count": 67,
   "metadata": {},
   "outputs": [],
   "source": [
    "to_predict = get_to_predict()\n",
    "predict_SVD = svd_surprise(ratings, None, to_predict, 10 )\n",
    "predict_SVD[predict_SVD > 5] = 5\n",
    "predict_SVD[predict_SVD < 1] = 1"
   ]
  },
  {
   "cell_type": "code",
   "execution_count": 68,
   "metadata": {},
   "outputs": [
    {
     "name": "stdout",
     "output_type": "stream",
     "text": [
      "Estimating biases using als...\n",
      "Computing the pearson_baseline similarity matrix...\n",
      "Done computing similarity matrix.\n"
     ]
    }
   ],
   "source": [
    "predict_KNNitem = knn_surprise(ratings, None, to_predict, False)\n",
    "predict_KNNitem[predict_KNNitem > 5] = 5\n",
    "predict_KNNitem[predict_KNNitem < 1] = 1"
   ]
  },
  {
   "cell_type": "code",
   "execution_count": 69,
   "metadata": {},
   "outputs": [
    {
     "name": "stdout",
     "output_type": "stream",
     "text": [
      "Estimating biases using als...\n"
     ]
    }
   ],
   "source": [
    "predict_baseline = baseline_surprise(ratings, None, to_predict)\n",
    "predict_baseline[predict_baseline > 5] = 5\n",
    "predict_baseline[predict_baseline < 1] = 1"
   ]
  },
  {
   "cell_type": "code",
   "execution_count": 70,
   "metadata": {},
   "outputs": [],
   "source": [
    "predict_slope = slope_surprise(ratings, None, to_predict)\n",
    "predict_slope[predict_slope > 5] = 5\n",
    "predict_slope[predict_slope < 1] = 1"
   ]
  },
  {
   "cell_type": "code",
   "execution_count": 71,
   "metadata": {},
   "outputs": [],
   "source": [
    "all_predictions = []\n",
    "all_predictions.append(predict_SGD)\n",
    "all_predictions.append(predict_ALS)\n",
    "all_predictions.append(predict_global)\n",
    "all_predictions.append(predict_SVD)\n",
    "all_predictions.append(predict_user)\n",
    "all_predictions.append(predict_item.reshape(10000,1))\n",
    "all_predictions.append(predict_KNNitem)\n",
    "all_predictions.append(predict_baseline)\n",
    "all_predictions.append(predict_slope)"
   ]
  },
  {
   "cell_type": "code",
   "execution_count": 72,
   "metadata": {},
   "outputs": [],
   "source": [
    "final_predict = 0\n",
    "for i, pred in enumerate(all_predictions):\n",
    "    final_predict += result.x[i] * pred"
   ]
  },
  {
   "cell_type": "code",
   "execution_count": 73,
   "metadata": {},
   "outputs": [],
   "source": [
    "final_predict[final_predict<1] = 1\n",
    "final_predict[final_predict>5] = 5"
   ]
  },
  {
   "cell_type": "code",
   "execution_count": 74,
   "metadata": {},
   "outputs": [],
   "source": [
    "create_csv_submissions(final_predict)"
   ]
  }
 ],
 "metadata": {
  "kernelspec": {
   "display_name": "Python 3",
   "language": "python",
   "name": "python3"
  },
  "language_info": {
   "codemirror_mode": {
    "name": "ipython",
    "version": 3
   },
   "file_extension": ".py",
   "mimetype": "text/x-python",
   "name": "python",
   "nbconvert_exporter": "python",
   "pygments_lexer": "ipython3",
   "version": "3.6.3"
  }
 },
 "nbformat": 4,
 "nbformat_minor": 2
}
