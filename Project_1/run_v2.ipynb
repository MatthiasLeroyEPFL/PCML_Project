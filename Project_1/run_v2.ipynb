{
 "cells": [
  {
   "cell_type": "code",
   "execution_count": null,
   "metadata": {
    "collapsed": false
   },
   "outputs": [],
   "source": [
    "import numpy as np\n",
    "from proj1_helpers import *\n",
    "from implementations import *\n",
    "from helpers import *\n",
    "from cross_validation import *\n",
    "%load_ext autoreload\n",
    "%autoreload 2"
   ]
  },
  {
   "cell_type": "code",
   "execution_count": null,
   "metadata": {
    "collapsed": true
   },
   "outputs": [],
   "source": [
    "#Load train et test data\n",
    "y, features, ids = load_csv_data('train.csv')\n",
    "y_test , features_test, ids_test = load_csv_data('test.csv')"
   ]
  },
  {
   "cell_type": "code",
   "execution_count": null,
   "metadata": {
    "collapsed": false
   },
   "outputs": [],
   "source": [
    "#Create 2 arrays with indexes of interesting features\n",
    "index_train, index_test = indexes_by_features(features, features_test)\n",
    "\n",
    "#Create train and test datasets based on previous indexes\n",
    "jets_datasets, y_datasets = create_dataset(features, y, index_train) \n",
    "jets_datasets_test, y_datasets_test = create_dataset(features_test, y_test, index_test)\n"
   ]
  },
  {
   "cell_type": "code",
   "execution_count": null,
   "metadata": {
    "collapsed": true
   },
   "outputs": [],
   "source": [
    "preprocessed_train_datasets, preprocessed_test_datasets  = preprocessed_dataset(jets_datasets, jets_datasets_test)"
   ]
  },
  {
   "cell_type": "code",
   "execution_count": null,
   "metadata": {
    "collapsed": false
   },
   "outputs": [],
   "source": [
    "train_datasets, test_datasets = add_features(preprocessed_train_datasets, preprocessed_test_datasets)"
   ]
  },
  {
   "cell_type": "code",
   "execution_count": null,
   "metadata": {
    "collapsed": false
   },
   "outputs": [],
   "source": [
    "train_datasets, test_datasets = build_poly_cross_datasets(train_datasets, test_datasets)"
   ]
  },
  {
   "cell_type": "code",
   "execution_count": null,
   "metadata": {
    "collapsed": true
   },
   "outputs": [],
   "source": [
    "lambdas = [0.00908517575652, 3.72759372031*10**-7, 0.0177827941004, 0.000695192796178, 0.0215443469003, 0.00719685673001]\n",
    "w = []\n",
    "for i, jet_set in enumerate(train_datasets):\n",
    "    w.append(ridge_regression(y_datasets[i], jet_set, lambdas[i])[0])"
   ]
  },
  {
   "cell_type": "code",
   "execution_count": null,
   "metadata": {
    "collapsed": false
   },
   "outputs": [],
   "source": [
    "y_predict = np.zeros(len(y_test))\n",
    "for i, jet_set in enumerate(test_datasets):\n",
    "    y_predict[index_test[i]] = predict_labels(w[i], jet_set)"
   ]
  },
  {
   "cell_type": "code",
   "execution_count": null,
   "metadata": {
    "collapsed": true
   },
   "outputs": [],
   "source": [
    "create_csv_submission(ids_test, y_predict, 'prediction.csv')"
   ]
  }
 ],
 "metadata": {
  "kernelspec": {
   "display_name": "Python 3",
   "language": "python",
   "name": "python3"
  },
  "language_info": {
   "codemirror_mode": {
    "name": "ipython",
    "version": 3
   },
   "file_extension": ".py",
   "mimetype": "text/x-python",
   "name": "python",
   "nbconvert_exporter": "python",
   "pygments_lexer": "ipython3",
   "version": "3.6.0"
  }
 },
 "nbformat": 4,
 "nbformat_minor": 2
}
