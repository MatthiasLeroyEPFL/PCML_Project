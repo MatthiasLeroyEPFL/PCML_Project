{
 "cells": [
  {
   "cell_type": "code",
   "execution_count": 14,
   "metadata": {
    "collapsed": false
   },
   "outputs": [],
   "source": [
    "import numpy as np\n",
    "\n",
    "def load_data():\n",
    "   \n",
    "    path_dataset = \"train.csv\"\n",
    "    data = np.genfromtxt(\n",
    "        path_dataset, delimiter=\",\")\n",
    "    return data\n",
    "\n",
    "higgs = load_data()[1:]\n",
    "\n"
   ]
  },
  {
   "cell_type": "code",
   "execution_count": 15,
   "metadata": {
    "collapsed": false
   },
   "outputs": [
    {
     "name": "stdout",
     "output_type": "stream",
     "text": [
      "[  1.00001000e+05              nan   1.60937000e+02   6.87680000e+01\n",
      "   1.03235000e+02   4.81460000e+01  -9.99000000e+02  -9.99000000e+02\n",
      "  -9.99000000e+02   3.47300000e+00   2.07800000e+00   1.25157000e+02\n",
      "   8.79000000e-01   1.41400000e+00  -9.99000000e+02   4.20140000e+01\n",
      "   2.03900000e+00  -3.01100000e+00   3.69180000e+01   5.01000000e-01\n",
      "   1.03000000e-01   4.47040000e+01  -1.91600000e+00   1.64546000e+02\n",
      "   1.00000000e+00   4.62260000e+01   7.25000000e-01   1.15800000e+00\n",
      "  -9.99000000e+02  -9.99000000e+02  -9.99000000e+02   4.62260000e+01]\n"
     ]
    }
   ],
   "source": [
    "print(higgs[1])"
   ]
  }
 ],
 "metadata": {
  "kernelspec": {
   "display_name": "Python 3",
   "language": "python",
   "name": "python3"
  },
  "language_info": {
   "codemirror_mode": {
    "name": "ipython",
    "version": 3
   },
   "file_extension": ".py",
   "mimetype": "text/x-python",
   "name": "python",
   "nbconvert_exporter": "python",
   "pygments_lexer": "ipython3",
   "version": "3.6.0"
  }
 },
 "nbformat": 4,
 "nbformat_minor": 2
}
