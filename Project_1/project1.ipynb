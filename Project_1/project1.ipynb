{
 "cells": [
  {
   "cell_type": "code",
   "execution_count": 1,
   "metadata": {
    "collapsed": false
   },
   "outputs": [],
   "source": [
    "%matplotlib inline\n",
    "import numpy as np\n",
    "from proj1_helpers import *\n",
    "from implementations import *\n",
    "from helpers import *\n",
    "%load_ext autoreload\n",
    "%autoreload 2"
   ]
  },
  {
   "cell_type": "code",
   "execution_count": 61,
   "metadata": {
    "collapsed": false
   },
   "outputs": [],
   "source": [
    "\n",
    "\n",
    "y, features, ids = load_csv_data('train.csv')\n",
    "yTest , featuresTest, idsTest = load_csv_data('test.csv')\n",
    "#inv = features[:,2]\n",
    "#inv[inv == -999] = np.nan\n",
    "\n",
    "#print(np.count_nonzero(np.isnan(inv)))\n",
    "features, featuresTest = cleanDataSet(features, featuresTest)\n",
    "\n"
   ]
  },
  {
   "cell_type": "code",
   "execution_count": 62,
   "metadata": {
    "collapsed": false
   },
   "outputs": [],
   "source": [
    "def compute_momentum(tra_momentum, pseudo_rap, azi_angle):\n",
    "    x = tra_momentum * np.cos(azi_angle)\n",
    "    y = tra_momentum * np.sin(azi_angle)\n",
    "    z = tra_momentum * np.sinh(pseudo_rap)\n",
    "    return x, y, z\n",
    "\n"
   ]
  },
  {
   "cell_type": "code",
   "execution_count": 63,
   "metadata": {
    "collapsed": false
   },
   "outputs": [],
   "source": [
    "def compute_invariant_mass(dataset, columns_indexA, columns_indexB):\n",
    "    a_x, a_y, a_z = compute_momentum(dataset[:, columns_indexA[0]], dataset[:, columns_indexA[1]], dataset[:, columns_indexA[2]])\n",
    "    b_x, b_y, b_z = compute_momentum(dataset[:, columns_indexB[0]], dataset[:, columns_indexB[1]], dataset[:, columns_indexB[2]])\n",
    "    \n",
    "    a = np.sqrt(np.square(a_x) + np.square(a_y) + np.square(a_z))\n",
    "    b = np.sqrt(np.square(b_x) + np.square(b_y) + np.square(b_z))\n",
    "    \n",
    "    invariant_mass = np.sqrt(np.square(a + b) - np.square(a_x + b_x) - np.square(a_y + b_y) - np.square(a_z + b_z))\n",
    "    return invariant_mass\n",
    "\n",
    "\n",
    "def compute_transverse_mass(dataset, columns_indexA, columns_indexB):\n",
    "    a_x, a_y, a_z = compute_momentum(dataset[:, columns_indexA[0]], dataset[:, columns_indexA[1]], dataset[:, columns_indexA[2]])\n",
    "    b_x, b_y, b_z = compute_momentum(dataset[:, columns_indexB[0]], dataset[:, columns_indexB[1]], dataset[:, columns_indexB[2]])\n",
    "    \n",
    "    a = np.sqrt(np.square(a_x) + np.square(a_y))\n",
    "    b = np.sqrt(np.square(b_x) + np.square(b_y))\n",
    "    \n",
    "    transverse_mass = np.sqrt(np.square(a + b) - np.square(a_x + b_x) - np.square(a_y + b_y))\n",
    "    return transverse_mass"
   ]
  },
  {
   "cell_type": "code",
   "execution_count": 64,
   "metadata": {
    "collapsed": false
   },
   "outputs": [],
   "source": [
    "def add_features(dataset):\n",
    "    tau = [13, 14, 15]\n",
    "    lep = [16, 17, 18]\n",
    "    jet_lea = [23, 24, 25]\n",
    "    jet_sub = [26, 27, 28]\n",
    "    \n",
    "    features_to_add =[]\n",
    "    features_to_add.append(compute_invariant_mass(dataset, tau, jet_lea))\n",
    "    features_to_add.append(compute_invariant_mass(dataset, tau, jet_sub))\n",
    "    features_to_add.append(compute_invariant_mass(dataset, lep, jet_lea))\n",
    "    features_to_add.append(compute_invariant_mass(dataset, lep, jet_sub))\n",
    "    \n",
    "    features_to_add.append(compute_transverse_mass(dataset, tau, jet_lea))\n",
    "    features_to_add.append(compute_transverse_mass(dataset, tau, jet_sub))\n",
    "    features_to_add.append(compute_transverse_mass(dataset, tau, lep))\n",
    "    features_to_add.append(compute_transverse_mass(dataset, lep, jet_lea))\n",
    "    features_to_add.append(compute_transverse_mass(dataset, lep, jet_sub))\n",
    "    features_to_add.append(compute_transverse_mass(dataset, jet_sub, jet_lea))\n",
    "    features_to_add = np.array(features_to_add)\n",
    "    return features_to_add.transpose()\n",
    "    "
   ]
  },
  {
   "cell_type": "code",
   "execution_count": 65,
   "metadata": {
    "collapsed": false
   },
   "outputs": [
    {
     "name": "stderr",
     "output_type": "stream",
     "text": [
      "C:\\Users\\matth\\Anaconda3\\lib\\site-packages\\ipykernel\\__main__.py:19: RuntimeWarning: invalid value encountered in sqrt\n"
     ]
    }
   ],
   "source": [
    "test_add_features = add_features(featuresTest)\n",
    "train_add_features = add_features(features)"
   ]
  },
  {
   "cell_type": "code",
   "execution_count": 66,
   "metadata": {
    "collapsed": true
   },
   "outputs": [],
   "source": [
    "train_add_features, test_add_features = cleanDataSet(train_add_features, test_add_features)"
   ]
  },
  {
   "cell_type": "code",
   "execution_count": 67,
   "metadata": {
    "collapsed": true
   },
   "outputs": [],
   "source": [
    "features = np.delete(features, [14, 15 , 17, 18, 20, 21, 24, 25, 27, 28], 1)\n",
    "featuresTest = np.delete(featuresTest, [14, 15 , 17, 18, 20, 21, 24, 25, 27, 28], 1)\n",
    "features = np.concatenate((features,train_add_features), 1)\n",
    "featuresTest = np.concatenate((featuresTest, test_add_features), 1)"
   ]
  },
  {
   "cell_type": "code",
   "execution_count": 68,
   "metadata": {
    "collapsed": false
   },
   "outputs": [
    {
     "name": "stdout",
     "output_type": "stream",
     "text": [
      "(250000, 30) (568238, 30)\n"
     ]
    }
   ],
   "source": [
    "print(features.shape, featuresTest.shape)"
   ]
  },
  {
   "cell_type": "code",
   "execution_count": 44,
   "metadata": {
    "collapsed": false
   },
   "outputs": [
    {
     "name": "stdout",
     "output_type": "stream",
     "text": [
      "(200000, 150) (50000, 150) (200000,) (50000,)\n"
     ]
    }
   ],
   "source": [
    "features, featuresTest = cleanDataSet(features, featuresTest)\n",
    "trainX, testX, trainY, testY, index = split_data(features, yTest, 0.8)\n",
    "\n",
    "trainX = build_poly(trainX, start=2, end=6)\n",
    "testX = build_poly(testX, start=2, end=6)\n",
    "print(trainX.shape, testX.shape, trainY.shape, testY.shape)"
   ]
  },
  {
   "cell_type": "code",
   "execution_count": 45,
   "metadata": {
    "collapsed": false,
    "scrolled": true
   },
   "outputs": [
    {
     "name": "stdout",
     "output_type": "stream",
     "text": [
      "0.00346354825469 0.00347260519148\n"
     ]
    }
   ],
   "source": [
    "w, loss = ridge_regression(trainY, trainX,10**-14)\n",
    "rmse_tr = np.sqrt(2*compute_mse(trainY,trainX,w))\n",
    "rmse_te = np.sqrt(2*compute_mse(testY,testX,w))\n",
    "print(rmse_tr,rmse_te)"
   ]
  },
  {
   "cell_type": "code",
   "execution_count": 69,
   "metadata": {
    "collapsed": false
   },
   "outputs": [
    {
     "name": "stdout",
     "output_type": "stream",
     "text": [
      "combinations done\n",
      "poly done\n"
     ]
    }
   ],
   "source": [
    "\n",
    "comb = combinations(features)\n",
    "comb2 = combinations(featuresTest)\n",
    "print('combinations done')\n",
    "\n",
    "features = build_poly(features, 2, 6)\n",
    "featuresTest = build_poly(featuresTest, 2 ,6)\n",
    "print(\"poly done\")\n",
    "\n",
    "features = np.concatenate((features,comb),1)\n",
    "featuresTest = np.concatenate((featuresTest,comb2),1)"
   ]
  },
  {
   "cell_type": "code",
   "execution_count": 38,
   "metadata": {
    "collapsed": false,
    "scrolled": true
   },
   "outputs": [
    {
     "name": "stdout",
     "output_type": "stream",
     "text": [
      "(250000, 615)\n",
      "[91012.25, 87658.5, 100838.0, 149308.75, 151893.0, 151845.25, 151718.75, 151225.75, 150237.25, 149348.5, 148672.5, 147796.75, 145910.75, 142430.25, 132971.0]\n",
      "[30414.25, 29390.25, 33554.5, 49753.5, 50575.25, 50553.0, 50514.25, 50357.75, 50034.0, 49745.0, 49537.0, 49230.75, 48636.0, 47465.5, 44307.25]\n"
     ]
    },
    {
     "data": {
      "image/png": "[encoded data removed]",
      "text/plain": [
       "<matplotlib.figure.Figure at 0x28f18b704a8>"
      ]
     },
     "metadata": {},
     "output_type": "display_data"
    }
   ],
   "source": [
    "print(features.shape)\n",
    "cross_validation_demo(y, features, np.logspace(-14,0,15))"
   ]
  },
  {
   "cell_type": "code",
   "execution_count": 70,
   "metadata": {
    "collapsed": true
   },
   "outputs": [],
   "source": [
    "lambda_ = 10**-6#0.1638\n",
    "w, loss = ridge_regression(y, features, lambda_)"
   ]
  },
  {
   "cell_type": "code",
   "execution_count": 71,
   "metadata": {
    "collapsed": false
   },
   "outputs": [],
   "source": [
    "yPred = predict_labels(w,featuresTest)"
   ]
  },
  {
   "cell_type": "code",
   "execution_count": 72,
   "metadata": {
    "collapsed": true
   },
   "outputs": [],
   "source": [
    "create_csv_submission(idsTest,yPred,'prediction.csv')"
   ]
  }
 ],
 "metadata": {
  "kernelspec": {
   "display_name": "Python 3",
   "language": "python",
   "name": "python3"
  },
  "language_info": {
   "codemirror_mode": {
    "name": "ipython",
    "version": 3
   },
   "file_extension": ".py",
   "mimetype": "text/x-python",
   "name": "python",
   "nbconvert_exporter": "python",
   "pygments_lexer": "ipython3",
   "version": "3.6.0"
  }
 },
 "nbformat": 4,
 "nbformat_minor": 2
}
