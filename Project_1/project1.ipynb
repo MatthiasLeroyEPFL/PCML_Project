{
 "cells": [
  {
   "cell_type": "code",
   "execution_count": 10,
   "metadata": {
    "collapsed": false
   },
   "outputs": [
    {
     "name": "stdout",
     "output_type": "stream",
     "text": [
      "The autoreload extension is already loaded. To reload it, use:\n",
      "  %reload_ext autoreload\n"
     ]
    }
   ],
   "source": [
    "%matplotlib inline\n",
    "import numpy as np\n",
    "from proj1_helpers import *\n",
    "from implementations import *\n",
    "from helpers import *\n",
    "from cross_validation import *\n",
    "%load_ext autoreload\n",
    "%autoreload 2"
   ]
  },
  {
   "cell_type": "code",
   "execution_count": 12,
   "metadata": {
    "collapsed": false
   },
   "outputs": [],
   "source": [
    "\n",
    "\n",
    "y, features, ids = load_csv_data('train.csv')\n",
    "yTest , featuresTest, idsTest = load_csv_data('test.csv')\n",
    "#inv = features[:,2]\n",
    "#inv[inv == -999] = np.nan\n",
    "\n",
    "#print(np.count_nonzero(np.isnan(inv)))\n",
    "features, featuresTest = cleanDataSet(features, featuresTest)\n",
    "\n"
   ]
  },
  {
   "cell_type": "code",
   "execution_count": 3,
   "metadata": {
    "collapsed": false
   },
   "outputs": [],
   "source": [
    "def add_features(dataset):\n",
    "    tau = [13, 14, 15]\n",
    "    lep = [16, 17, 18]\n",
    "    jet_lea = [23, 24, 25]\n",
    "    jet_sub = [26, 27, 28]\n",
    "    \n",
    "    features_to_add =[]\n",
    "    features_to_add.append(compute_invariant_mass(dataset, tau, jet_lea))\n",
    "    features_to_add.append(compute_invariant_mass(dataset, tau, jet_sub))\n",
    "    features_to_add.append(compute_invariant_mass(dataset, lep, jet_lea))\n",
    "    features_to_add.append(compute_invariant_mass(dataset, lep, jet_sub))\n",
    "    \n",
    "    features_to_add.append(compute_transverse_mass(dataset, tau, jet_lea))\n",
    "    features_to_add.append(compute_transverse_mass(dataset, tau, jet_sub))\n",
    "    features_to_add.append(compute_transverse_mass(dataset, tau, lep))\n",
    "    features_to_add.append(compute_transverse_mass(dataset, lep, jet_lea))\n",
    "    features_to_add.append(compute_transverse_mass(dataset, lep, jet_sub))\n",
    "    features_to_add.append(compute_transverse_mass(dataset, jet_sub, jet_lea))\n",
    "    features_to_add = np.array(features_to_add)\n",
    "    return features_to_add.transpose()\n",
    "    "
   ]
  },
  {
   "cell_type": "code",
   "execution_count": 13,
   "metadata": {
    "collapsed": false
   },
   "outputs": [],
   "source": [
    "test_add_features = normalize(add_features(featuresTest))\n",
    "train_add_features = normalize(add_features(features))"
   ]
  },
  {
   "cell_type": "code",
   "execution_count": 7,
   "metadata": {
    "collapsed": true
   },
   "outputs": [],
   "source": []
  },
  {
   "cell_type": "code",
   "execution_count": 14,
   "metadata": {
    "collapsed": true
   },
   "outputs": [],
   "source": [
    "features = np.delete(features, [14, 15 , 17, 18, 20, 21, 24, 25, 27, 28], 1)\n",
    "featuresTest = np.delete(featuresTest, [14, 15 , 17, 18, 20, 21, 24, 25, 27, 28], 1)\n",
    "features = np.concatenate((features,train_add_features), 1)\n",
    "featuresTest = np.concatenate((featuresTest, test_add_features), 1)"
   ]
  },
  {
   "cell_type": "code",
   "execution_count": 15,
   "metadata": {
    "collapsed": false
   },
   "outputs": [],
   "source": [
    "features = normalize(features)\n",
    "featuresTest = normalize(featuresTest)"
   ]
  },
  {
   "cell_type": "code",
   "execution_count": 16,
   "metadata": {
    "collapsed": false
   },
   "outputs": [
    {
     "name": "stdout",
     "output_type": "stream",
     "text": [
      "combinations done\n",
      "poly done\n"
     ]
    }
   ],
   "source": [
    "\n",
    "#comb = combinations(features)\n",
    "#comb2 = combinations(featuresTest)\n",
    "print('combinations done')\n",
    "\n",
    "features = normalize(build_poly(features, 1, 9))\n",
    "#featuresTest = build_poly(featuresTest, 1 ,6)\n",
    "print(\"poly done\")\n",
    "\n",
    "#features = np.concatenate((features,comb),1)\n",
    "#featuresTest = np.concatenate((featuresTest,comb2),1)"
   ]
  },
  {
   "cell_type": "code",
   "execution_count": 17,
   "metadata": {
    "collapsed": false,
    "scrolled": true
   },
   "outputs": [
    {
     "name": "stdout",
     "output_type": "stream",
     "text": [
      "0.8025360000000001 1e-14\n",
      "0.789813366399 1e-07\n"
     ]
    },
    {
     "data": {
      "image/png": "[encoded data removed]",
      "text/plain": [
       "<matplotlib.figure.Figure at 0x20ed601c2b0>"
      ]
     },
     "metadata": {},
     "output_type": "display_data"
    }
   ],
   "source": [
    "cross_validation_demo(y, features, np.logspace(-14,0,15),6)"
   ]
  },
  {
   "cell_type": "code",
   "execution_count": 11,
   "metadata": {
    "collapsed": true
   },
   "outputs": [],
   "source": [
    "lambda_ = 10**-6#0.1638\n",
    "w, loss = ridge_regression(y, features, lambda_)"
   ]
  },
  {
   "cell_type": "code",
   "execution_count": 12,
   "metadata": {
    "collapsed": false
   },
   "outputs": [],
   "source": [
    "yPred = predict_labels(w,featuresTest)"
   ]
  },
  {
   "cell_type": "code",
   "execution_count": 13,
   "metadata": {
    "collapsed": true
   },
   "outputs": [],
   "source": [
    "create_csv_submission(idsTest,yPred,'prediction.csv')"
   ]
  }
 ],
 "metadata": {
  "kernelspec": {
   "display_name": "Python 3",
   "language": "python",
   "name": "python3"
  },
  "language_info": {
   "codemirror_mode": {
    "name": "ipython",
    "version": 3
   },
   "file_extension": ".py",
   "mimetype": "text/x-python",
   "name": "python",
   "nbconvert_exporter": "python",
   "pygments_lexer": "ipython3",
   "version": "3.6.0"
  }
 },
 "nbformat": 4,
 "nbformat_minor": 2
}
