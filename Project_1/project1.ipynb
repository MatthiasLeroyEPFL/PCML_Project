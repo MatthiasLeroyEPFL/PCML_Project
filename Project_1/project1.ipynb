{
 "cells": [
  {
   "cell_type": "code",
   "execution_count": 61,
   "metadata": {
    "collapsed": false
   },
   "outputs": [
    {
     "name": "stdout",
     "output_type": "stream",
     "text": [
      "The autoreload extension is already loaded. To reload it, use:\n",
      "  %reload_ext autoreload\n"
     ]
    }
   ],
   "source": [
    "import numpy as np\n",
    "from proj1_helpers import *\n",
    "from implementations import *\n",
    "from helpers import *\n",
    "%load_ext autoreload\n",
    "%autoreload 2"
   ]
  },
  {
   "cell_type": "code",
   "execution_count": 68,
   "metadata": {
    "collapsed": false
   },
   "outputs": [],
   "source": [
    "\n",
    "\n",
    "y, features, ids = load_csv_data('train.csv')\n",
    "yTest , featuresTest, idsTest = load_csv_data('test.csv')\n",
    "\n",
    "features, featuresTest = cleanDataSet(features, featuresTest)\n",
    "\n"
   ]
  },
  {
   "cell_type": "code",
   "execution_count": 11,
   "metadata": {
    "collapsed": false
   },
   "outputs": [],
   "source": [
    "\n"
   ]
  },
  {
   "cell_type": "code",
   "execution_count": 44,
   "metadata": {
    "collapsed": false
   },
   "outputs": [
    {
     "name": "stdout",
     "output_type": "stream",
     "text": [
      "(200000, 150) (50000, 150) (200000,) (50000,)\n"
     ]
    }
   ],
   "source": [
    "features, featuresTest = cleanDataSet(features, featuresTest)\n",
    "trainX, testX, trainY, testY, index = split_data(features, yTest, 0.8)\n",
    "\n",
    "trainX = build_poly(trainX, start=2, end=6)\n",
    "testX = build_poly(testX, start=2, end=6)\n",
    "print(trainX.shape, testX.shape, trainY.shape, testY.shape)"
   ]
  },
  {
   "cell_type": "code",
   "execution_count": 45,
   "metadata": {
    "collapsed": false,
    "scrolled": true
   },
   "outputs": [
    {
     "name": "stdout",
     "output_type": "stream",
     "text": [
      "0.00346354825469 0.00347260519148\n"
     ]
    }
   ],
   "source": [
    "w, loss = ridge_regression(trainY, trainX,10**-14)\n",
    "rmse_tr = np.sqrt(2*compute_mse(trainY,trainX,w))\n",
    "rmse_te = np.sqrt(2*compute_mse(testY,testX,w))\n",
    "print(rmse_tr,rmse_te)"
   ]
  },
  {
   "cell_type": "code",
   "execution_count": 69,
   "metadata": {
    "collapsed": false
   },
   "outputs": [],
   "source": [
    "\n",
    "comb = combinations(features)\n",
    "comb2 = combinations(featuresTest)\n",
    "\n",
    "features = build_poly(features, 2, 6)\n",
    "featuresTest = build_poly(featuresTest, 2 ,6)\n",
    "\n",
    "features = np.concatenate((features,comb),1)\n",
    "featuresTest = np.concatenate((featuresTest,comb2),1)"
   ]
  },
  {
   "cell_type": "code",
   "execution_count": 70,
   "metadata": {
    "collapsed": false
   },
   "outputs": [
    {
     "name": "stdout",
     "output_type": "stream",
     "text": [
      "(250000, 615) (568238, 615)\n"
     ]
    }
   ],
   "source": [
    "print(features.shape, featuresTest.shape)"
   ]
  },
  {
   "cell_type": "code",
   "execution_count": 80,
   "metadata": {
    "collapsed": true
   },
   "outputs": [],
   "source": [
    "lambda_ = 10**-6\n",
    "w, loss = ridge_regression(y, features, lambda_)"
   ]
  },
  {
   "cell_type": "code",
   "execution_count": 81,
   "metadata": {
    "collapsed": false
   },
   "outputs": [],
   "source": [
    "yPred = predict_labels(w,featuresTest)"
   ]
  },
  {
   "cell_type": "code",
   "execution_count": 82,
   "metadata": {
    "collapsed": true
   },
   "outputs": [],
   "source": [
    "create_csv_submission(idsTest,yPred,'prediction.csv')"
   ]
  }
 ],
 "metadata": {
  "kernelspec": {
   "display_name": "Python 3",
   "language": "python",
   "name": "python3"
  },
  "language_info": {
   "codemirror_mode": {
    "name": "ipython",
    "version": 3
   },
   "file_extension": ".py",
   "mimetype": "text/x-python",
   "name": "python",
   "nbconvert_exporter": "python",
   "pygments_lexer": "ipython3",
   "version": "3.6.0"
  }
 },
 "nbformat": 4,
 "nbformat_minor": 2
}
