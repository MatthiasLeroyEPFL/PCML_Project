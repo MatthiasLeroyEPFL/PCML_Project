{
 "cells": [
  {
   "cell_type": "code",
   "execution_count": null,
   "metadata": {
    "collapsed": true
   },
   "outputs": [],
   "source": [
    "import numpy as np\n",
    "from proj1_helpers import *\n",
    "from implementations import *\n",
    "from helpers import *"
   ]
  },
  {
   "cell_type": "code",
   "execution_count": null,
   "metadata": {
    "collapsed": false
   },
   "outputs": [],
   "source": [
    "\n",
    "\n",
    "y, features, ids = load_csv_data('train.csv')\n",
    "yTest , featuresTest, idsTest = load_csv_data('test.csv')\n",
    "\n",
    "\n",
    "\n"
   ]
  },
  {
   "cell_type": "code",
   "execution_count": null,
   "metadata": {
    "collapsed": false
   },
   "outputs": [],
   "source": [
    "def cleanDataSet(dataTrain, dataTest):\n",
    "    dataTrain[dataTrain == -999] = np.nan\n",
    "    means = np.nanmean(dataTrain, axis = 0)\n",
    "    indexTrain = np.where(np.isnan(dataTrain))\n",
    "    dataTrain[indexTrain]=np.take(means,indexTrain[1])\n",
    "    dataTrain, mean, std = standardize(dataTrain)\n",
    "    \n",
    "    dataTest[dataTest == -999] = np.nan\n",
    "    indexTest = np.where(np.isnan(dataTest))\n",
    "    dataTest[indexTest] = np.take(means, indexTest[1])\n",
    "    dataTest = (dataTest - mean) / std\n",
    "    return dataTrain, dataTest\n",
    "def build_polynomial_data(dataset):\n",
    "    pol = build_poly(dataset)\n",
    "    return np.concatenate((dataset,pol),1)"
   ]
  },
  {
   "cell_type": "code",
   "execution_count": null,
   "metadata": {
    "collapsed": false
   },
   "outputs": [],
   "source": [
    "features, featuresTest = cleanDataSet(features, featuresTest)\n",
    "features = build_poly(features,2,8)\n",
    "featuresTest = build_poly(featuresTest,2,8)\n",
    "print(features.shape, featuresTest.shape)"
   ]
  },
  {
   "cell_type": "code",
   "execution_count": null,
   "metadata": {
    "collapsed": false
   },
   "outputs": [],
   "source": [
    "w_initial = np.zeros(features.shape[1])\n",
    "w, loss = least_squares_GD(y,features,w_initial,500,0.01)"
   ]
  },
  {
   "cell_type": "code",
   "execution_count": null,
   "metadata": {
    "collapsed": true
   },
   "outputs": [],
   "source": [
    "lambda_ = 10**-14\n",
    "w, loss = ridge_regression(y, features, lambda_)"
   ]
  },
  {
   "cell_type": "code",
   "execution_count": null,
   "metadata": {
    "collapsed": false
   },
   "outputs": [],
   "source": [
    "yPred = predict_labels(w,featuresTest)"
   ]
  },
  {
   "cell_type": "code",
   "execution_count": null,
   "metadata": {
    "collapsed": true
   },
   "outputs": [],
   "source": [
    "create_csv_submission(idsTest,yPred,'prediction.csv')"
   ]
  }
 ],
 "metadata": {
  "kernelspec": {
   "display_name": "Python 3",
   "language": "python",
   "name": "python3"
  },
  "language_info": {
   "codemirror_mode": {
    "name": "ipython",
    "version": 3
   },
   "file_extension": ".py",
   "mimetype": "text/x-python",
   "name": "python",
   "nbconvert_exporter": "python",
   "pygments_lexer": "ipython3",
   "version": "3.6.0"
  }
 },
 "nbformat": 4,
 "nbformat_minor": 2
}
