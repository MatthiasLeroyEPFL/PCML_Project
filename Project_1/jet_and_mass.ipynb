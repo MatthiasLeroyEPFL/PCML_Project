{
 "cells": [
  {
   "cell_type": "code",
   "execution_count": 1,
   "metadata": {
    "collapsed": false
   },
   "outputs": [],
   "source": [
    "%matplotlib inline\n",
    "import numpy as np\n",
    "from proj1_helpers import *\n",
    "from implementations import *\n",
    "from helpers import *\n",
    "from cross_validation import *\n",
    "%load_ext autoreload\n",
    "%autoreload 2"
   ]
  },
  {
   "cell_type": "code",
   "execution_count": 2,
   "metadata": {
    "collapsed": false
   },
   "outputs": [],
   "source": [
    "y, features, ids = load_csv_data('train.csv')\n",
    "y_test , features_test, ids_test = load_csv_data('test.csv')"
   ]
  },
  {
   "cell_type": "code",
   "execution_count": 3,
   "metadata": {
    "collapsed": true
   },
   "outputs": [],
   "source": [
    "index_train = []\n",
    "index_train.append(np.where((features[:,22] == 0) & (features [:,0] == -999)))\n",
    "index_train.append(np.where((features[:,22] == 0) & (features [:,0] != -999)))\n",
    "\n",
    "index_train.append(np.where((features[:,22] == 1) & (features [:,0] == -999)))\n",
    "index_train.append(np.where((features[:,22] == 1) & (features [:,0] != -999)))\n",
    "\n",
    "index_train.append(np.where(((features[:,22] == 2) | (features[:,22] == 3)) & (features [:,0] == -999)))\n",
    "index_train.append(np.where(((features[:,22] == 2) | (features[:,22] == 3)) & (features [:,0] != -999)))\n",
    "\n",
    "index_test = []\n",
    "index_test.append(np.where((features_test[:,22] == 0) & (features_test[:,0] == -999)))\n",
    "index_test.append(np.where((features_test[:,22] == 0) & (features_test[:,0] != -999)))\n",
    "\n",
    "index_test.append(np.where((features_test[:,22] == 1) & (features_test[:,0] == -999)))\n",
    "index_test.append(np.where((features_test[:,22] == 1) & (features_test[:,0] != -999)))\n",
    "\n",
    "index_test.append(np.where(((features_test[:,22] == 2) | (features_test[:,22] == 3)) & (features_test[:,0] == -999)))\n",
    "index_test.append(np.where(((features_test[:,22] == 2) | (features_test[:,22] == 3)) & (features_test[:,0] != -999)))\n"
   ]
  },
  {
   "cell_type": "code",
   "execution_count": 4,
   "metadata": {
    "collapsed": true
   },
   "outputs": [],
   "source": [
    "def create_dataset(dataset, y, index):\n",
    "    jet0_nm = dataset[index[0]]\n",
    "    y0_nm = y[index[0]]\n",
    "    \n",
    "    jet0_wm = dataset[index[1]]\n",
    "    y0_wm = y[index[1]]\n",
    "    \n",
    "    jet1_nm = dataset[index[2]]\n",
    "    y1_nm = y[index[2]]\n",
    "    \n",
    "    jet1_wm = dataset[index[3]]\n",
    "    y1_wm = y[index[3]]\n",
    "    \n",
    "    jet2_nm = dataset[index[4]]\n",
    "    y2_nm = y[index[4]]\n",
    "    \n",
    "    jet2_wm = dataset[index[5]]\n",
    "    y2_wm = y[index[5]]\n",
    "    \n",
    "    \n",
    "    jet0_nm = np.delete(jet0_nm, [0, 4, 5, 6, 12, 22, 23, 24, 25, 26, 27, 28, 29], 1)\n",
    "    jet0_wm = np.delete(jet0_wm, [4, 5, 6, 12, 22, 23, 24, 25, 26, 27, 28, 29], 1)\n",
    "    jet1_nm = np.delete(jet1_nm, [0, 4, 5, 6, 12, 22, 26, 27, 28], 1)\n",
    "    jet1_wm = np.delete(jet1_wm, [4, 5, 6, 12, 22, 26, 27, 28], 1)\n",
    "    jet2_nm = np.delete(jet2_nm, [0, 22], 1)\n",
    "    jet2_wm = np.delete(jet2_wm, 22, 1)\n",
    "    \n",
    "    return [jet0_nm, jet0_wm, jet1_nm, jet1_wm, jet2_nm, jet2_wm], [y0_nm, y0_wm, y1_nm, y1_wm, y2_nm, y2_wm]"
   ]
  },
  {
   "cell_type": "code",
   "execution_count": 21,
   "metadata": {
    "collapsed": false
   },
   "outputs": [
    {
     "name": "stdout",
     "output_type": "stream",
     "text": [
      "[(26123, 17), (73790, 18), (7562, 21), (69982, 22), (4429, 28), (68114, 29)]\n"
     ]
    }
   ],
   "source": [
    "jets_datasets, y_datasets = create_dataset(features, y, index_train) \n",
    "jets_datasets_test, y_datasets_test = create_dataset(features_test, y_test, index_test)"
   ]
  },
  {
   "cell_type": "markdown",
   "metadata": {},
   "source": [
    "# Jet_0_NM"
   ]
  },
  {
   "cell_type": "code",
   "execution_count": 6,
   "metadata": {
    "collapsed": false
   },
   "outputs": [],
   "source": [
    "jet0_nm_train, mean0_nm, std0_nm = standardize(jets_datasets[0])\n",
    "y0_nm_train = y_datasets[0]\n",
    "\n",
    "jet0_nm_test = (jets_datasets_test[0] - mean0_nm) / std0_nm\n",
    "\n",
    "y0_nm_test = y_datasets_test[0]\n",
    "\n",
    "\n",
    "jet0_nm_train, mean0_nm, std0_nm = standardize(build_poly(jet0_nm_train, 2, False, False, True ))\n",
    "jet0_nm_test = (build_poly(jet0_nm_test, 2, False, False, True) - mean0_nm) / std0_nm\n",
    "\n",
    "jet0_nm_train = add_ones(jet0_nm_train)\n",
    "jet0_nm_test = add_ones(jet0_nm_test)"
   ]
  },
  {
   "cell_type": "code",
   "execution_count": 7,
   "metadata": {
    "collapsed": false
   },
   "outputs": [
    {
     "name": "stdout",
     "output_type": "stream",
     "text": [
      "0.410431838067 0.00316227766017\n",
      "0.9492343032159264 6.81292069058e-05\n"
     ]
    },
    {
     "data": {
      "image/png": "[encoded data removed]",
      "text/plain": [
       "<matplotlib.figure.Figure at 0x1e90ad8be80>"
      ]
     },
     "metadata": {},
     "output_type": "display_data"
    }
   ],
   "source": [
    "#cross_validation_demo(y0_nm_train, jet0_nm_train, np.logspace(-10,0,25), 11)"
   ]
  },
  {
   "cell_type": "code",
   "execution_count": 186,
   "metadata": {
    "collapsed": true
   },
   "outputs": [],
   "source": [
    "w0_nm, loss0_nm = ridge_regression(y0_nm_train, jet0_nm_train, 0.00316227766017)\n",
    "y0_nm_predict = predict_labels(w0_nm, jet0_nm_test)"
   ]
  },
  {
   "cell_type": "markdown",
   "metadata": {},
   "source": [
    "# Jet_0_WM"
   ]
  },
  {
   "cell_type": "code",
   "execution_count": 8,
   "metadata": {
    "collapsed": false
   },
   "outputs": [
    {
     "name": "stdout",
     "output_type": "stream",
     "text": [
      "(73790, 1)\n",
      "(168195, 1)\n"
     ]
    }
   ],
   "source": [
    "jet0_wm_train, mean0_wm, std0_wm = standardize(jets_datasets[1])\n",
    "y0_wm_train = y_datasets[1]\n",
    "\n",
    "\n",
    "jet0_wm_train = add_features_jet0(jet0_wm_train)\n",
    "#jet0_wm_train = np.concatenate((jet0_wm_train, compute_inverse_log(jet0_wm_train, [3, 5, 8, 18])), 1)\n",
    "\n",
    "jet0_wm_test = (jets_datasets_test[1] - mean0_wm) / std0_wm\n",
    "y0_wm_test = y_datasets_test[1]\n",
    "\n",
    "jet0_wm_test = add_features_jet0(jet0_wm_test)\n",
    "#jet0_wm_test = np.concatenate((jet0_wm_test, compute_inverse_log(jet0_wm_test, [3, 5, 8, 18])), 1)\n",
    "\n",
    "jet0_wm_train, mean0_wm, std0_wm = standardize(build_poly(jet0_wm_train, 3, True, False, True))\n",
    "jet0_wm_test = (build_poly(jet0_wm_test, 3, True, False, True) - mean0_wm) / std0_wm\n",
    "\n",
    "jet0_wm_train = add_ones(jet0_wm_train)\n",
    "jet0_wm_test = add_ones(jet0_wm_test)"
   ]
  },
  {
   "cell_type": "code",
   "execution_count": 9,
   "metadata": {
    "collapsed": false
   },
   "outputs": [
    {
     "name": "stdout",
     "output_type": "stream",
     "text": [
      "0.735482378855 0.000268269579528\n",
      "0.8112481366038757 2.68269579528e-09\n"
     ]
    },
    {
     "data": {
      "image/png": "[encoded data removed]",
      "text/plain": [
       "<matplotlib.figure.Figure at 0x1e90e606e80>"
      ]
     },
     "metadata": {},
     "output_type": "display_data"
    }
   ],
   "source": [
    "#cross_validation_demo(y0_wm_train, jet0_wm_train, np.logspace(-10,0,15))"
   ]
  },
  {
   "cell_type": "code",
   "execution_count": 189,
   "metadata": {
    "collapsed": true
   },
   "outputs": [],
   "source": [
    "w0_wm, loss0_wm = ridge_regression(y0_wm_train, jet0_wm_train, 0.000268269579528)\n",
    "y0_wm_predict = predict_labels(w0_wm, jet0_wm_test)"
   ]
  },
  {
   "cell_type": "markdown",
   "metadata": {},
   "source": [
    "# Jet_1_NM"
   ]
  },
  {
   "cell_type": "code",
   "execution_count": 10,
   "metadata": {
    "collapsed": false
   },
   "outputs": [],
   "source": [
    "jet1_nm_train, mean1_nm, std1_nm = standardize(jets_datasets[2])\n",
    "y1_nm_train = y_datasets[2]\n",
    "\n",
    "jet1_nm_test = (jets_datasets_test[2] - mean1_nm) / std1_nm\n",
    "y1_nm_test = y_datasets_test[2]\n",
    "\n",
    "jet1_nm_train, mean1_nm, std1_nm = standardize(build_poly(jet1_nm_train, 2, False, False, True))\n",
    "jet1_nm_test = (build_poly(jet1_nm_test, 2, False, False, True) - mean1_nm) / std1_nm\n",
    "\n",
    "\n",
    "\n",
    "jet1_nm_train = add_ones(jet1_nm_train)\n",
    "jet1_nm_test = add_ones(jet1_nm_test)"
   ]
  },
  {
   "cell_type": "code",
   "execution_count": 11,
   "metadata": {
    "collapsed": false
   },
   "outputs": [
    {
     "name": "stdout",
     "output_type": "stream",
     "text": [
      "0.514851467665 0.0177827941004\n",
      "0.9202380952380953 0.0177827941004\n"
     ]
    },
    {
     "data": {
      "image/png": "[encoded data removed]",
      "text/plain": [
       "<matplotlib.figure.Figure at 0x1e95c0153c8>"
      ]
     },
     "metadata": {},
     "output_type": "display_data"
    }
   ],
   "source": [
    "#cross_validation_demo(y1_nm_train, jet1_nm_train, np.logspace(-7,0,25), 11)"
   ]
  },
  {
   "cell_type": "code",
   "execution_count": 192,
   "metadata": {
    "collapsed": true
   },
   "outputs": [],
   "source": [
    "w1_nm, loss1_nm = ridge_regression(y1_nm_train, jet1_nm_train, 0.0177827941004)\n",
    "y1_nm_predict = predict_labels(w1_nm, jet1_nm_test)"
   ]
  },
  {
   "cell_type": "markdown",
   "metadata": {},
   "source": [
    "# Jet_1_WM"
   ]
  },
  {
   "cell_type": "code",
   "execution_count": 12,
   "metadata": {
    "collapsed": false
   },
   "outputs": [],
   "source": [
    "jet1_wm_train, mean1_wm, std1_wm = standardize(jets_datasets[3])\n",
    "y1_wm_train = y_datasets[3]\n",
    "\n",
    "\n",
    "\n",
    "jet1_wm_test = (jets_datasets_test[3] - mean1_wm) / std1_wm\n",
    "y1_wm_test = y_datasets_test[3]\n",
    "\n",
    "\n",
    "jet1_wm_train, mean1_wm, std1_wm = standardize(build_poly(jet1_wm_train, 4, True, False, True))\n",
    "jet1_wm_test = (build_poly(jet1_wm_test, 4, True, False, True) - mean1_wm) / std1_wm\n",
    "\n",
    "jet1_wm_train = add_ones(jet1_wm_train)\n",
    "jet1_wm_test = add_ones(jet1_wm_test)"
   ]
  },
  {
   "cell_type": "code",
   "execution_count": 13,
   "metadata": {
    "collapsed": false
   },
   "outputs": [
    {
     "name": "stdout",
     "output_type": "stream",
     "text": [
      "0.771479860997 0.000695192796178\n",
      "0.7962703629608459 1e-10\n"
     ]
    },
    {
     "data": {
      "image/png": "[encoded data removed]",
      "text/plain": [
       "<matplotlib.figure.Figure at 0x1e90e614940>"
      ]
     },
     "metadata": {},
     "output_type": "display_data"
    }
   ],
   "source": [
    "#cross_validation_demo(y1_wm_train, jet1_wm_train, np.logspace(-10,0,20), 11)"
   ]
  },
  {
   "cell_type": "code",
   "execution_count": 195,
   "metadata": {
    "collapsed": true
   },
   "outputs": [],
   "source": [
    "w1_wm, loss1_wm = ridge_regression(y1_wm_train, jet1_wm_train, 0.000695192796178)\n",
    "y1_wm_predict = predict_labels(w1_wm, jet1_wm_test)"
   ]
  },
  {
   "cell_type": "markdown",
   "metadata": {},
   "source": [
    "# Jet_2_NM"
   ]
  },
  {
   "cell_type": "code",
   "execution_count": 14,
   "metadata": {
    "collapsed": false
   },
   "outputs": [],
   "source": [
    "jet2_nm_train, mean2_nm, std2_nm = standardize(jets_datasets[4])\n",
    "y2_nm_train = y_datasets[4]\n",
    "\n",
    "\n",
    "jet2_nm_test = (jets_datasets_test[4] - mean2_nm) / std2_nm\n",
    "y2_nm_test = y_datasets_test[4]\n",
    "\n",
    "\n",
    "jet2_nm_train, mean2_nm, std2_nm = standardize(build_poly(jet2_nm_train, 2, False, False, True))\n",
    "jet2_nm_test = (build_poly(jet2_nm_test, 2, False, False, True ) - mean2_nm) / std2_nm\n",
    "\n",
    "jet2_nm_train = add_ones(jet2_nm_train)\n",
    "jet2_nm_test = add_ones(jet2_nm_test)"
   ]
  },
  {
   "cell_type": "code",
   "execution_count": 15,
   "metadata": {
    "collapsed": false
   },
   "outputs": [
    {
     "name": "stdout",
     "output_type": "stream",
     "text": [
      "0.538384419199 0.0215443469003\n",
      "0.9125423728813559 0.146779926762\n"
     ]
    },
    {
     "data": {
      "image/png": "[encoded data removed]",
      "text/plain": [
       "<matplotlib.figure.Figure at 0x1e967800c88>"
      ]
     },
     "metadata": {},
     "output_type": "display_data"
    }
   ],
   "source": [
    "#cross_validation_demo(y2_nm_train, jet2_nm_train, np.logspace(-10,0,25), 11)"
   ]
  },
  {
   "cell_type": "code",
   "execution_count": 198,
   "metadata": {
    "collapsed": true
   },
   "outputs": [],
   "source": [
    "w2_nm, loss2_nm = ridge_regression(y2_nm_train, jet2_nm_train, 0.0215443469003)\n",
    "y2_nm_predict = predict_labels(w2_nm, jet2_nm_test)"
   ]
  },
  {
   "cell_type": "markdown",
   "metadata": {},
   "source": [
    "# Jet_2_WM"
   ]
  },
  {
   "cell_type": "code",
   "execution_count": 16,
   "metadata": {
    "collapsed": false
   },
   "outputs": [
    {
     "name": "stdout",
     "output_type": "stream",
     "text": [
      "(68114, 1306)\n"
     ]
    }
   ],
   "source": [
    "jet2_wm_train, mean2_wm, std2_wm = standardize(jets_datasets[5])\n",
    "y2_wm_train = y_datasets[5]\n",
    "\n",
    "jet2_wm_test = (jets_datasets_test[5] - mean2_wm) / std2_wm\n",
    "y2_wm_test = y_datasets_test[5]\n",
    "\n",
    "\n",
    "\n",
    "\n",
    "\n",
    "jet2_wm_train, mean2_wm, std2_wm = standardize(build_poly(jet2_wm_train, 3, True, True, True))\n",
    "jet2_wm_test = (build_poly(jet2_wm_test, 3, True, True, True) - mean2_wm) / std2_wm\n",
    "\n",
    "\n",
    "jet2_wm_train = add_ones(jet2_wm_train)\n",
    "print(jet2_wm_train.shape)\n",
    "jet2_wm_test = add_ones(jet2_wm_test)"
   ]
  },
  {
   "cell_type": "code",
   "execution_count": 17,
   "metadata": {
    "collapsed": false
   },
   "outputs": [
    {
     "name": "stdout",
     "output_type": "stream",
     "text": [
      "0.716706338873 0.00138949549437\n",
      "0.8348700631331669 5.17947467923e-05\n"
     ]
    },
    {
     "data": {
      "image/png": "[encoded data removed]",
      "text/plain": [
       "<matplotlib.figure.Figure at 0x1e951b5c390>"
      ]
     },
     "metadata": {},
     "output_type": "display_data"
    }
   ],
   "source": [
    "#cross_validation_demo(y2_wm_train, jet2_wm_train, np.logspace(-10,0,15), 11)"
   ]
  },
  {
   "cell_type": "code",
   "execution_count": 201,
   "metadata": {
    "collapsed": true
   },
   "outputs": [],
   "source": [
    "w2_wm, loss_wn = ridge_regression(y2_wm_train, jet2_wm_train, 0.00138949549437)\n",
    "y2_wm_predict = predict_labels(w2_wm, jet2_wm_test)"
   ]
  },
  {
   "cell_type": "code",
   "execution_count": 202,
   "metadata": {
    "collapsed": false
   },
   "outputs": [],
   "source": [
    "y_predict = y_predict = np.zeros(len(y_test))\n",
    "y_predict[index_test[0]] = y0_nm_predict\n",
    "y_predict[index_test[1]] = y0_wm_predict\n",
    "y_predict[index_test[2]] = y1_nm_predict\n",
    "y_predict[index_test[3]] = y1_wm_predict\n",
    "y_predict[index_test[4]] = y2_nm_predict\n",
    "y_predict[index_test[5]] = y2_wm_predict\n",
    "\n",
    "create_csv_submission(ids_test, y_predict, 'prediction.csv')"
   ]
  }
 ],
 "metadata": {
  "kernelspec": {
   "display_name": "Python 3",
   "language": "python",
   "name": "python3"
  },
  "language_info": {
   "codemirror_mode": {
    "name": "ipython",
    "version": 3
   },
   "file_extension": ".py",
   "mimetype": "text/x-python",
   "name": "python",
   "nbconvert_exporter": "python",
   "pygments_lexer": "ipython3",
   "version": "3.6.0"
  }
 },
 "nbformat": 4,
 "nbformat_minor": 2
}
