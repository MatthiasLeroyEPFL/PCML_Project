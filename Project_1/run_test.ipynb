{
 "cells": [
  {
   "cell_type": "code",
   "execution_count": null,
   "metadata": {
    "collapsed": true
   },
   "outputs": [],
   "source": [
    "%matplotlib inline\n",
    "import numpy as np\n",
    "from proj1_helpers import *\n",
    "from implementations import *\n",
    "from helpers import *\n",
    "from cross_validation import *\n",
    "%load_ext autoreload\n",
    "%autoreload 2"
   ]
  },
  {
   "cell_type": "code",
   "execution_count": null,
   "metadata": {
    "collapsed": true
   },
   "outputs": [],
   "source": [
    "#Load train et test data\n",
    "y, features, ids = load_csv_data('train.csv')\n",
    "y_test , features_test, ids_test = load_csv_data('test.csv')"
   ]
  },
  {
   "cell_type": "code",
   "execution_count": null,
   "metadata": {
    "collapsed": true
   },
   "outputs": [],
   "source": [
    "#Create 2 arrays with indexes of interesting features\n",
    "index_train, index_test = indexes_by_features(features, features_test)\n",
    "\n",
    "#Create train and test datasets based on previous indexes\n",
    "jets_datasets, y_datasets = create_dataset(features, y, index_train) \n",
    "jets_datasets_test, y_datasets_test = create_dataset(features_test, y_test, index_test)\n",
    "\n",
    "\n",
    "'''For the 6 following datasets, we apply some data wrangling (doc in /helpers.py), \n",
    "    then compute a ridge regression with a parameter that we found thanks to\n",
    "    a cross validation. Finally, we predict our labels'''\n",
    "\n",
    "#------- Jet_0_NM -------\n",
    "jet0_nm_train, jet0_nm_test, y0_nm_train, y0_nm_test = data_wrangling(jets_datasets, y_datasets, jets_datasets_test, y_datasets_test, 0, 2, False, False, True, True, True)\n",
    "w0_nm, loss0_nm = ridge_regression(y0_nm_train, jet0_nm_train, 0.00908517575652)\n",
    "y0_nm_predict = predict_labels(w0_nm, jet0_nm_test)\n",
    "\n",
    "\n",
    "#------- Jet_0_WM -------\n",
    "jet0_wm_train, jet0_wm_test, y0_wm_train, y0_wm_test = data_wrangling(jets_datasets, y_datasets, jets_datasets_test, y_datasets_test, 1, 3, True, False, True, True, False)\n",
    "#cross_validation_demo(y0_wm_train, jet0_wm_train, np.logspace(-10,0,15))\n",
    "w0_wm, loss0_wm = ridge_regression(y0_wm_train, jet0_wm_train, 3.72759372031*10**-7)\n",
    "y0_wm_predict = predict_labels(w0_wm, jet0_wm_test)\n",
    "\n",
    "\n",
    "#------- Jet_1_NM -------\n",
    "jet1_nm_train, jet1_nm_test, y1_nm_train, y1_nm_test = data_wrangling(jets_datasets, y_datasets, jets_datasets_test, y_datasets_test, 2, 2, False, False, True)\n",
    "#cross_validation_demo(y1_nm_train, jet1_nm_train, np.logspace(-7,0,25), 11)\n",
    "w1_nm, loss1_nm = ridge_regression(y1_nm_train, jet1_nm_train, 0.0177827941004)\n",
    "y1_nm_predict = predict_labels(w1_nm, jet1_nm_test)\n",
    "\n",
    "\n",
    "#------- Jet_1_WM -------\n",
    "jet1_wm_train, jet1_wm_test, y1_wm_train, y1_wm_test = data_wrangling(jets_datasets, y_datasets, jets_datasets_test, y_datasets_test, 3, 4, True, False, True)\n",
    "#cross_validation_demo(y1_wm_train, jet1_wm_train, np.logspace(-10,0,20), 11)\n",
    "w1_wm, loss1_wm = ridge_regression(y1_wm_train, jet1_wm_train, 0.000695192796178)\n",
    "y1_wm_predict = predict_labels(w1_wm, jet1_wm_test)\n",
    "\n",
    "\n",
    "#------- Jet_2_NM -------\n",
    "jet2_nm_train, jet2_nm_test, y2_nm_train, y2_nm_test = data_wrangling(jets_datasets, y_datasets, jets_datasets_test, y_datasets_test, 4, 2, False, False, True)\n",
    "#cross_validation_demo(y2_nm_train, jet2_nm_train, np.logspace(-10,0,25), 11)\n",
    "w2_nm, loss2_nm = ridge_regression(y2_nm_train, jet2_nm_train, 0.0215443469003)\n",
    "y2_nm_predict = predict_labels(w2_nm, jet2_nm_test)\n",
    "\n",
    "\n",
    "#------- Jet_2_WM -------\n",
    "jet2_wm_train, jet2_wm_test, y2_wm_train, y2_wm_test = data_wrangling(jets_datasets, y_datasets, jets_datasets_test, y_datasets_test, 5, 3, True, True, True)\n",
    "#cross_validation_demo(y2_wm_train, jet2_wm_train, np.logspace(-10,0,15), 11)\n",
    "w2_wm, loss_wn = ridge_regression(y2_wm_train, jet2_wm_train, 0.00138949549437)\n",
    "y2_wm_predict = predict_labels(w2_wm, jet2_wm_test)"
   ]
  },
  {
   "cell_type": "code",
   "execution_count": null,
   "metadata": {
    "collapsed": true
   },
   "outputs": [],
   "source": [
    "#Compute predictions\n",
    "y_predict = np.zeros(len(y_test))\n",
    "y_predict[index_test[0]] = y0_nm_predict\n",
    "y_predict[index_test[1]] = y0_wm_predict\n",
    "y_predict[index_test[2]] = y1_nm_predict\n",
    "y_predict[index_test[3]] = y1_wm_predict\n",
    "y_predict[index_test[4]] = y2_nm_predict\n",
    "y_predict[index_test[5]] = y2_wm_predict\n",
    "\n",
    "create_csv_submission(ids_test, y_predict, 'prediction.csv')"
   ]
  }
 ],
 "metadata": {
  "kernelspec": {
   "display_name": "Python 3",
   "language": "python",
   "name": "python3"
  },
  "language_info": {
   "codemirror_mode": {
    "name": "ipython",
    "version": 3
   },
   "file_extension": ".py",
   "mimetype": "text/x-python",
   "name": "python",
   "nbconvert_exporter": "python",
   "pygments_lexer": "ipython3",
   "version": "3.6.0"
  }
 },
 "nbformat": 4,
 "nbformat_minor": 2
}
