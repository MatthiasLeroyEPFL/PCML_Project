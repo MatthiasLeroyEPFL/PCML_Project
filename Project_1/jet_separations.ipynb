{
 "cells": [
  {
   "cell_type": "code",
   "execution_count": 445,
   "metadata": {
    "collapsed": false
   },
   "outputs": [
    {
     "name": "stdout",
     "output_type": "stream",
     "text": [
      "The autoreload extension is already loaded. To reload it, use:\n",
      "  %reload_ext autoreload\n"
     ]
    }
   ],
   "source": [
    "%matplotlib inline\n",
    "import numpy as np\n",
    "from proj1_helpers import *\n",
    "from implementations import *\n",
    "from helpers import *\n",
    "from cross_validation import *\n",
    "%load_ext autoreload\n",
    "%autoreload 2"
   ]
  },
  {
   "cell_type": "code",
   "execution_count": 446,
   "metadata": {
    "collapsed": true
   },
   "outputs": [],
   "source": [
    "y, features, ids = load_csv_data('train.csv')\n",
    "yTest , featuresTest, idsTest = load_csv_data('test.csv')"
   ]
  },
  {
   "cell_type": "code",
   "execution_count": 447,
   "metadata": {
    "collapsed": false
   },
   "outputs": [],
   "source": [
    "index0_train = np.where(features[:,22] == 0)\n",
    "index1_train = np.where(features[:,22] == 1)\n",
    "index2_train = np.where((features[:,22] == 2) | (features[:,22] == 3))\n",
    "\n",
    "index0_test = np.where(featuresTest[:,22] == 0)\n",
    "index1_test = np.where(featuresTest[:,22] == 1)\n",
    "index2_test = np.where((featuresTest[:,22] == 2) | (featuresTest[:,22] == 3))"
   ]
  },
  {
   "cell_type": "code",
   "execution_count": 448,
   "metadata": {
    "collapsed": false
   },
   "outputs": [],
   "source": [
    "\n",
    "def create_dataset(dataset, y, index0, index1, index2):\n",
    "    \n",
    "    jet_0 = dataset[index0]\n",
    "    y0 = y[index0]\n",
    "    \n",
    "    jet_1 = dataset[index1]\n",
    "    y1 = y[index1]\n",
    "    \n",
    "    jet_2_3 = dataset[index2]\n",
    "    y2_3 = y[index2]\n",
    "    \n",
    "\n",
    "    jet_0 = np.delete(jet_0, [0, 4, 5, 6, 12, 22, 23, 24, 25, 26, 27, 28, 29], 1)\n",
    "    jet_1 = np.delete(jet_1, [0, 4, 5, 6, 12, 22, 26, 27, 28], 1)\n",
    "    jet_2_3 = np.delete(jet_2_3, [0, 22], 1)\n",
    "    \n",
    "    return jet_0, jet_1, jet_2_3, y0, y1, y2_3"
   ]
  },
  {
   "cell_type": "code",
   "execution_count": 449,
   "metadata": {
    "collapsed": false
   },
   "outputs": [],
   "source": [
    "jet0_train, jet1_train, jet2_3_train, y0_train, y1_train, y2_3_train = create_dataset(features, y, index0_train, index1_train, index2_train)\n",
    "jet0_test, jet1_test, jet2_3_test, y0_test, y1_test, y2_3_test = create_dataset(featuresTest, yTest, index0_test, index1_test, index2_test)\n"
   ]
  },
  {
   "cell_type": "code",
   "execution_count": 450,
   "metadata": {
    "collapsed": true
   },
   "outputs": [],
   "source": [
    "def add_features_jet0(dataset):\n",
    "    index_tau = [8, 9, 10]\n",
    "    index_lep = [11, 12, 13]\n",
    "    index_met = [14, 15, 16]\n",
    "    \n",
    "    features_to_add = []\n",
    "   \n",
    "     \n",
    "    features_to_add.append(compute_transverse_mass(dataset, index_tau, index_lep))\n",
    "    features_to_add.append(compute_transverse_mass(dataset, index_tau, index_met))\n",
    "    \n",
    "    \n",
    "    features_to_add.append(compute_pseudo_rapidity(dataset, 9, 12))\n",
    "    features_to_add.append(compute_pseudo_rapidity(dataset, 9, 15))\n",
    "    features_to_add.append(compute_pseudo_rapidity(dataset, 12, 15)) \n",
    "    \n",
    "    \n",
    "    features_to_add = np.array(features_to_add).transpose()\n",
    "    #features_to_add, mean, std = standardize(features_to_add)\n",
    "    \n",
    "    print(features_to_add.shape)\n",
    "    return np.concatenate((dataset,features_to_add), 1)"
   ]
  },
  {
   "cell_type": "code",
   "execution_count": 451,
   "metadata": {
    "collapsed": true
   },
   "outputs": [],
   "source": [
    "jet0_train, mean, std = standardize(jet0_train)\n",
    "jet0_test = (jet0_test - mean) / std"
   ]
  },
  {
   "cell_type": "code",
   "execution_count": 452,
   "metadata": {
    "collapsed": false
   },
   "outputs": [
    {
     "name": "stdout",
     "output_type": "stream",
     "text": [
      "(99913, 5)\n",
      "(227458, 5)\n"
     ]
    }
   ],
   "source": [
    "jet0_train = add_features_jet0(jet0_train)\n",
    "jet0_test = add_features_jet0(jet0_test)"
   ]
  },
  {
   "cell_type": "code",
   "execution_count": 453,
   "metadata": {
    "collapsed": true
   },
   "outputs": [],
   "source": [
    "jet0_train = build_poly(jet0_train,1,7)\n",
    "jet0_test = build_poly(jet0_test, 1, 7)"
   ]
  },
  {
   "cell_type": "code",
   "execution_count": 454,
   "metadata": {
    "collapsed": false
   },
   "outputs": [
    {
     "name": "stdout",
     "output_type": "stream",
     "text": [
      "0.692640628263\n",
      "1.87042222807\n"
     ]
    }
   ],
   "source": [
    "w0, loss0 = ridge_regression(y0_train, jet0_train,10**-5)\n",
    "print(compute_rmse(y0_train, jet0_train, w0))\n",
    "print(compute_rmse(y0_test, jet0_test, w0))"
   ]
  },
  {
   "cell_type": "code",
   "execution_count": 455,
   "metadata": {
    "collapsed": false
   },
   "outputs": [],
   "source": [
    "def add_features_jet1(dataset):\n",
    "    index_tau = [8, 9, 10]\n",
    "    index_lep = [11, 12, 13]\n",
    "    index_met = [14, 15, 16]\n",
    "    index_jet_lead = [17, 18, 19]\n",
    "    \n",
    "    \n",
    "    features_to_add = []\n",
    "   \n",
    "    features_to_add.append(compute_invariant_mass(dataset, index_tau, index_jet_lead))\n",
    "    features_to_add.append(compute_invariant_mass(dataset, index_lep, index_jet_lead))\n",
    "    \n",
    "    \n",
    "    features_to_add.append(compute_transverse_mass(dataset, index_tau, index_lep))\n",
    "    features_to_add.append(compute_transverse_mass(dataset, index_tau, index_met))\n",
    "    features_to_add.append(compute_transverse_mass(dataset, index_tau, index_jet_lead))\n",
    "    features_to_add.append(compute_transverse_mass(dataset, index_lep, index_jet_lead))\n",
    "    features_to_add.append(compute_transverse_mass(dataset, index_jet_lead, index_met))\n",
    "    \n",
    "    \n",
    "    \n",
    "    features_to_add.append(compute_pseudo_rapidity(dataset, 9, 12))\n",
    "    features_to_add.append(compute_pseudo_rapidity(dataset, 9, 15))\n",
    "    features_to_add.append(compute_pseudo_rapidity(dataset, 9, 18)) \n",
    "    features_to_add.append(compute_pseudo_rapidity(dataset, 12, 15))\n",
    "    features_to_add.append(compute_pseudo_rapidity(dataset, 12, 18))\n",
    "    features_to_add.append(compute_pseudo_rapidity(dataset, 15, 18))\n",
    "    \n",
    "    features_to_add = np.array(features_to_add).transpose()\n",
    "    #features_to_add, mean, std = standardize(features_to_add)\n",
    "    \n",
    "    print(features_to_add.shape)\n",
    "    return np.concatenate((dataset,features_to_add), 1)\n"
   ]
  },
  {
   "cell_type": "code",
   "execution_count": 456,
   "metadata": {
    "collapsed": false
   },
   "outputs": [],
   "source": [
    "jet1_train, mean, std = standardize(jet1_train)\n",
    "jet1_test = (jet1_test - mean) / std"
   ]
  },
  {
   "cell_type": "code",
   "execution_count": 457,
   "metadata": {
    "collapsed": false
   },
   "outputs": [
    {
     "name": "stdout",
     "output_type": "stream",
     "text": [
      "(77544, 13)\n",
      "(175338, 13)\n"
     ]
    }
   ],
   "source": [
    "jet1_train = add_features_jet1(jet1_train)\n",
    "\n",
    "jet1_test = add_features_jet1(jet1_test)\n"
   ]
  },
  {
   "cell_type": "code",
   "execution_count": 458,
   "metadata": {
    "collapsed": false
   },
   "outputs": [
    {
     "name": "stdout",
     "output_type": "stream",
     "text": [
      "(77544, 136) (77544,)\n"
     ]
    }
   ],
   "source": [
    "jet1_train = build_poly(jet1_train,1,5)\n",
    "jet1_test = build_poly(jet1_test, 1, 5)\n",
    "print(jet1_train.shape, y1_train.shape)"
   ]
  },
  {
   "cell_type": "code",
   "execution_count": 459,
   "metadata": {
    "collapsed": false
   },
   "outputs": [
    {
     "name": "stdout",
     "output_type": "stream",
     "text": [
      "0.807149943792\n",
      "1.62809295189\n"
     ]
    }
   ],
   "source": [
    "w1, loss1 = ridge_regression(y1_train, jet1_train, 10**-4)\n",
    "print(compute_rmse(y1_train, jet1_train, w1))\n",
    "print(compute_rmse(y1_test, jet1_test, w1))"
   ]
  },
  {
   "cell_type": "code",
   "execution_count": 460,
   "metadata": {
    "collapsed": false
   },
   "outputs": [],
   "source": [
    "def add_features_jet2_3(dataset):\n",
    "    index_tau = [12, 13, 14]\n",
    "    index_lep = [15, 16, 17]\n",
    "    index_met = [18, 19, 20]\n",
    "    index_jet_lead = [21, 22, 23]\n",
    "    index_jet_sub = [24, 25, 26]\n",
    "    \n",
    "    features_to_add = []\n",
    "   \n",
    "    features_to_add.append(compute_invariant_mass(dataset, index_tau, index_jet_lead))\n",
    "    features_to_add.append(compute_invariant_mass(dataset, index_tau, index_jet_sub))\n",
    "    features_to_add.append(compute_invariant_mass(dataset, index_lep, index_jet_lead))\n",
    "    features_to_add.append(compute_invariant_mass(dataset, index_lep, index_jet_sub))\n",
    "    \n",
    "    \n",
    "    features_to_add.append(compute_transverse_mass(dataset, index_tau, index_lep))\n",
    "    features_to_add.append(compute_transverse_mass(dataset, index_tau, index_met))\n",
    "    features_to_add.append(compute_transverse_mass(dataset, index_tau, index_jet_lead))\n",
    "    features_to_add.append(compute_transverse_mass(dataset, index_tau, index_jet_sub))\n",
    "    features_to_add.append(compute_transverse_mass(dataset, index_lep, index_jet_lead))\n",
    "    features_to_add.append(compute_transverse_mass(dataset, index_lep, index_jet_sub))\n",
    "    features_to_add.append(compute_transverse_mass(dataset, index_jet_lead, index_jet_sub))\n",
    "    features_to_add.append(compute_transverse_mass(dataset, index_jet_lead, index_met))\n",
    "    features_to_add.append(compute_transverse_mass(dataset, index_jet_sub, index_met))\n",
    "    \n",
    "    \n",
    "    features_to_add.append(compute_pseudo_rapidity(dataset, 13, 16))\n",
    "    features_to_add.append(compute_pseudo_rapidity(dataset, 13, 22))\n",
    "    features_to_add.append(compute_pseudo_rapidity(dataset, 13, 25)) \n",
    "    features_to_add.append(compute_pseudo_rapidity(dataset, 16, 22))\n",
    "    features_to_add.append(compute_pseudo_rapidity(dataset, 16, 25))\n",
    "    features_to_add.append(compute_pseudo_rapidity(dataset, 22, 25))\n",
    "    \n",
    "    features_to_add = np.array(features_to_add).transpose()\n",
    "    #features_to_add, mean, std = standardize(features_to_add)\n",
    "    \n",
    "    print(features_to_add.shape)\n",
    "    return np.concatenate((dataset,features_to_add), 1)\n",
    "    "
   ]
  },
  {
   "cell_type": "code",
   "execution_count": 461,
   "metadata": {
    "collapsed": true
   },
   "outputs": [],
   "source": [
    "jet2_3_train, mean, std = standardize(jet2_3_train)\n",
    "jet2_3_test = (jet2_3_test - mean) / std"
   ]
  },
  {
   "cell_type": "code",
   "execution_count": 462,
   "metadata": {
    "collapsed": false
   },
   "outputs": [
    {
     "name": "stdout",
     "output_type": "stream",
     "text": [
      "(72543, 19)\n",
      "(165442, 19)\n"
     ]
    }
   ],
   "source": [
    "jet2_3_train = add_features_jet2_3(jet2_3_train)\n",
    "jet2_3_test = add_features_jet2_3(jet2_3_test)"
   ]
  },
  {
   "cell_type": "code",
   "execution_count": 463,
   "metadata": {
    "collapsed": false
   },
   "outputs": [],
   "source": [
    "jet2_3_train = build_poly(jet2_3_train,1,6)\n",
    "jet2_3_test = build_poly(jet2_3_test, 1, 6)"
   ]
  },
  {
   "cell_type": "code",
   "execution_count": 464,
   "metadata": {
    "collapsed": false
   },
   "outputs": [
    {
     "name": "stdout",
     "output_type": "stream",
     "text": [
      "0.788116558255\n",
      "1.60818395691\n"
     ]
    }
   ],
   "source": [
    "w2, loss2 = ridge_regression(y2_3_train, jet2_3_train, 10**-5)\n",
    "print(compute_rmse(y2_3_train, jet2_3_train, w2))\n",
    "print(compute_rmse(y2_3_test, jet2_3_test, w2))"
   ]
  },
  {
   "cell_type": "code",
   "execution_count": 465,
   "metadata": {
    "collapsed": false
   },
   "outputs": [],
   "source": [
    "y0_predict = predict_labels(w0, jet0_test)\n",
    "y1_predict = predict_labels(w1, jet1_test)\n",
    "y2_predict = predict_labels(w2, jet2_3_test)"
   ]
  },
  {
   "cell_type": "code",
   "execution_count": 466,
   "metadata": {
    "collapsed": true
   },
   "outputs": [],
   "source": [
    "y_predict = np.zeros(len(yTest))\n",
    "y_predict[index0_test] = y0_predict\n",
    "y_predict[index1_test] = y1_predict\n",
    "y_predict[index2_test] = y2_predict"
   ]
  },
  {
   "cell_type": "code",
   "execution_count": 467,
   "metadata": {
    "collapsed": true
   },
   "outputs": [],
   "source": [
    "create_csv_submission(idsTest, y_predict, 'prediction.csv')"
   ]
  }
 ],
 "metadata": {
  "kernelspec": {
   "display_name": "Python 3",
   "language": "python",
   "name": "python3"
  },
  "language_info": {
   "codemirror_mode": {
    "name": "ipython",
    "version": 3
   },
   "file_extension": ".py",
   "mimetype": "text/x-python",
   "name": "python",
   "nbconvert_exporter": "python",
   "pygments_lexer": "ipython3",
   "version": "3.6.0"
  }
 },
 "nbformat": 4,
 "nbformat_minor": 2
}
