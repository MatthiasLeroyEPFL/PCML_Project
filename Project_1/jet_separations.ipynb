{
 "cells": [
  {
   "cell_type": "code",
   "execution_count": 1,
   "metadata": {
    "collapsed": false
   },
   "outputs": [],
   "source": [
    "%matplotlib inline\n",
    "import numpy as np\n",
    "from proj1_helpers import *\n",
    "from implementations import *\n",
    "from helpers import *\n",
    "from cross_validation import *\n",
    "%load_ext autoreload\n",
    "%autoreload 2"
   ]
  },
  {
   "cell_type": "code",
   "execution_count": 2,
   "metadata": {
    "collapsed": true
   },
   "outputs": [],
   "source": [
    "y, features, ids = load_csv_data('train.csv')\n",
    "yTest , featuresTest, idsTest = load_csv_data('test.csv')"
   ]
  },
  {
   "cell_type": "code",
   "execution_count": 195,
   "metadata": {
    "collapsed": false
   },
   "outputs": [],
   "source": [
    "index0_train = np.where(features[:,22] == 0)\n",
    "index1_train = np.where(features[:,22] == 1)\n",
    "index2_train = np.where((features[:,22] == 2) | (features[:,22] == 3))\n",
    "\n",
    "index0_without_mass = np.where((features[:,22] == 0) & (features [:,0] == -999))\n",
    "\n",
    "index0_test = np.where(featuresTest[:,22] == 0)\n",
    "index1_test = np.where(featuresTest[:,22] == 1)\n",
    "index2_test = np.where((featuresTest[:,22] == 2) | (featuresTest[:,22] == 3))"
   ]
  },
  {
   "cell_type": "code",
   "execution_count": 196,
   "metadata": {
    "collapsed": false
   },
   "outputs": [],
   "source": [
    "\n",
    "def create_dataset(dataset, y, index0, index1, index2, index3):\n",
    "    \n",
    "    jet_0 = dataset[index0]\n",
    "    y0 = y[index0]\n",
    "    \n",
    "    jet_0_without_mass = dataset[index3]\n",
    "    y0_without_mass = y[index3]\n",
    "    \n",
    "    jet_1 = dataset[index1]\n",
    "    y1 = y[index1]\n",
    "    \n",
    "    jet_2_3 = dataset[index2]\n",
    "    y2_3 = y[index2]\n",
    "    \n",
    "    mass_column_0 = jet_0[:,0]\n",
    "    mass_column_1 = jet_1[:,0]\n",
    "    mass_column_2 = jet_2_3[:,0]\n",
    "    \n",
    "\n",
    "    jet_0 = np.delete(jet_0, [0,4, 5, 6, 12, 22, 23, 24, 25, 26, 27, 28, 29], 1)\n",
    "    jet_0_without_mass = np.delete(jet_0_without_mass, [0,4, 5, 6, 12, 22, 23, 24, 25, 26, 27, 28, 29], 1)\n",
    "    jet_1 = np.delete(jet_1, [0, 4, 5, 6, 12, 22, 26, 27, 28], 1)\n",
    "    jet_2_3 = np.delete(jet_2_3, [0, 22], 1)\n",
    "    \n",
    "    return jet_0, jet_0_without_mass, jet_1, jet_2_3, y0, y0_without_mass, y1, y2_3, "
   ]
  },
  {
   "cell_type": "code",
   "execution_count": 222,
   "metadata": {
    "collapsed": false
   },
   "outputs": [],
   "source": [
    "jet0_train, jet0_wm_train, jet1_train, jet2_3_train, y0_train, y0_wm_train, y1_train, y2_3_train = create_dataset(features, y, index0_train, index1_train, index2_train, index0_without_mass)\n",
    "jet0_test, jet1_test, jet2_3_test, y0_test, y1_test, y2_3_test, mass0_test, mass1_test = create_dataset(featuresTest, yTest, index0_test, index1_test, index2_test, index0_without_mass)\n"
   ]
  },
  {
   "cell_type": "code",
   "execution_count": 204,
   "metadata": {
    "collapsed": false
   },
   "outputs": [
    {
     "name": "stdout",
     "output_type": "stream",
     "text": [
      "(26123, 17)\n"
     ]
    }
   ],
   "source": [
    "print(jet0_wm_train.shape)"
   ]
  },
  {
   "cell_type": "code",
   "execution_count": 200,
   "metadata": {
    "collapsed": true
   },
   "outputs": [],
   "source": [
    "def add_features_jet0(dataset):\n",
    "    index_tau = [8, 9, 10]\n",
    "    index_lep = [11, 12, 13]\n",
    "    index_met = [14, 15, 16]\n",
    "    \n",
    "    features_to_add = []\n",
    "   \n",
    "     \n",
    "    features_to_add.append(compute_transverse_mass(dataset, index_tau, index_lep))\n",
    "    features_to_add.append(compute_transverse_mass(dataset, index_tau, index_met))\n",
    "    \n",
    "    \n",
    "    features_to_add.append(compute_pseudo_rapidity(dataset, 9, 12))\n",
    "    \n",
    "    #features_to_add.append(compute_product_pseudo(dataset, 9, 12))\n",
    "    \n",
    "    \n",
    "    \n",
    "    features_to_add = np.array(features_to_add).transpose()\n",
    "    features_to_add, m, s = standardize(features_to_add)\n",
    "    \n",
    "    print(features_to_add.shape)\n",
    "    return np.concatenate((dataset,features_to_add), 1)"
   ]
  },
  {
   "cell_type": "code",
   "execution_count": 223,
   "metadata": {
    "collapsed": false
   },
   "outputs": [],
   "source": [
    "\n",
    "\n",
    "jet0_wm_train, mean0, std0 = standardize(jet0_wm_train)\n",
    "#jet0_test = (jet0_test - mean0) / std0\n",
    "\n",
    "#mass0, mean_mass0, std_mass0 = standardize(clean_column(mass0))\n",
    "#jet0_train = np.append(jet0_train, mass0.reshape(-1,1), 1)\n",
    "\n",
    "#mass0_test = normalize(clean_column(mass0_test))\n",
    "#jet0_test = np.append(jet0_test, mass0_test.reshape(-1,1),1)"
   ]
  },
  {
   "cell_type": "code",
   "execution_count": 219,
   "metadata": {
    "collapsed": false,
    "scrolled": true
   },
   "outputs": [
    {
     "name": "stdout",
     "output_type": "stream",
     "text": [
      "(26123, 3)\n"
     ]
    }
   ],
   "source": [
    "#jet0_wm_train = add_features_jet0(jet0_wm_train)\n",
    "#jet0_train = normalize(jet0_train)\n",
    "#jet0_test = add_features_jet0(jet0_test)\n",
    "#jet0_test = normalize(jet0_test)"
   ]
  },
  {
   "cell_type": "code",
   "execution_count": 144,
   "metadata": {
    "collapsed": true
   },
   "outputs": [],
   "source": [
    "#jet0_train = np.delete(jet0_train, [10,13], 1)\n",
    "#jet0_test = np.delete(jet0_test, [10,13], 1)\n",
    "#jet0_train, mean, std = standardize(jet0_train)\n",
    "#jet0_test = (jet0_test-mean) / std"
   ]
  },
  {
   "cell_type": "code",
   "execution_count": 224,
   "metadata": {
    "collapsed": false
   },
   "outputs": [
    {
     "name": "stdout",
     "output_type": "stream",
     "text": [
      "(26123, 136)\n",
      "(26123, 120)\n"
     ]
    }
   ],
   "source": [
    "combi, mean_combi, std_combi = standardize(combinations(jet0_wm_train))\n",
    "print(combi.shape)\n",
    "#combi = standardize(combi)\n",
    "jet0_wm_train, mean, std = standardize(build_poly(jet0_wm_train,1,7))\n",
    "jet0_wm_train = np.concatenate((np.ones(jet0_wm_train.shape[0]).reshape(-1,1), jet0_wm_train), 1)\n",
    "print(jet0_wm_train.shape)\n",
    "#jet0_test = normalize(build_poly(jet0_test, 1, 5))\n",
    "\n",
    "jet0_wm_train = np.concatenate((jet0_wm_train,combi), 1)\n",
    "\n",
    "#jet0_train, m, s = standardize(jet0_train)"
   ]
  },
  {
   "cell_type": "code",
   "execution_count": 225,
   "metadata": {
    "collapsed": false
   },
   "outputs": [
    {
     "name": "stdout",
     "output_type": "stream",
     "text": [
      "0.9496937212863706 5.17947467923e-11\n",
      "0.427523221753 0.00517947467923\n"
     ]
    },
    {
     "data": {
      "image/png": "[encoded data removed]",
      "text/plain": [
       "<matplotlib.figure.Figure at 0x11e819eb400>"
      ]
     },
     "metadata": {},
     "output_type": "display_data"
    }
   ],
   "source": [
    "cross_validation_demo(y0_wm_train, jet0_wm_train, np.logspace(-16,0,15), 11)"
   ]
  },
  {
   "cell_type": "code",
   "execution_count": 712,
   "metadata": {
    "collapsed": false
   },
   "outputs": [],
   "source": [
    "w0, loss0 = ridge_regression(y0_train, jet0_train, 2.07*10**-7)"
   ]
  },
  {
   "cell_type": "code",
   "execution_count": 713,
   "metadata": {
    "collapsed": false
   },
   "outputs": [],
   "source": [
    "def add_features_jet1(dataset):\n",
    "    index_tau = [8, 9, 10]\n",
    "    index_lep = [11, 12, 13]\n",
    "    index_met = [14, 15, 16]\n",
    "    index_jet_lead = [17, 18, 19]\n",
    "    \n",
    "    \n",
    "    features_to_add = []\n",
    "   \n",
    "    features_to_add.append(compute_invariant_mass(dataset, index_tau, index_jet_lead))\n",
    "    features_to_add.append(compute_invariant_mass(dataset, index_lep, index_jet_lead))\n",
    "    \n",
    "    \n",
    "    features_to_add.append(compute_transverse_mass(dataset, index_tau, index_lep))\n",
    "    features_to_add.append(compute_transverse_mass(dataset, index_tau, index_met))\n",
    "    features_to_add.append(compute_transverse_mass(dataset, index_tau, index_jet_lead))\n",
    "    features_to_add.append(compute_transverse_mass(dataset, index_lep, index_jet_lead))\n",
    "    features_to_add.append(compute_transverse_mass(dataset, index_jet_lead, index_met))\n",
    "    \n",
    "    \n",
    "    \n",
    "    features_to_add.append(compute_pseudo_rapidity(dataset, 9, 12))\n",
    "    features_to_add.append(compute_pseudo_rapidity(dataset, 9, 18)) \n",
    "    features_to_add.append(compute_pseudo_rapidity(dataset, 12, 18))\n",
    "    \n",
    "    features_to_add.append(compute_product_pseudo(dataset, 9, 12))\n",
    "    features_to_add.append(compute_product_pseudo(dataset, 9, 18))\n",
    "    features_to_add.append(compute_product_pseudo(dataset, 12, 18))\n",
    "    \n",
    "    features_to_add = np.array(features_to_add).transpose()\n",
    "    #features_to_add, mean, std = standardize(features_to_add)\n",
    "    \n",
    "    print(features_to_add.shape)\n",
    "    return np.concatenate((dataset,features_to_add), 1)\n"
   ]
  },
  {
   "cell_type": "code",
   "execution_count": 714,
   "metadata": {
    "collapsed": false
   },
   "outputs": [],
   "source": [
    "jet1_train, mean, std = standardize(jet1_train)\n",
    "jet1_test = (jet1_test - mean) / std\n",
    "\n",
    "mass1 = normalize(clean_column(mass1))\n",
    "jet1_train = np.append(jet1_train, mass1.reshape(-1,1), 1)\n",
    "\n",
    "mass1_test = normalize(clean_column(mass1_test))\n",
    "jet1_test = np.append(jet1_test, mass1_test.reshape(-1,1), 1)"
   ]
  },
  {
   "cell_type": "code",
   "execution_count": 715,
   "metadata": {
    "collapsed": false
   },
   "outputs": [
    {
     "name": "stdout",
     "output_type": "stream",
     "text": [
      "(77544, 13)\n",
      "(175338, 13)\n"
     ]
    }
   ],
   "source": [
    "jet1_train = add_features_jet1(jet1_train)\n",
    "jet1_test = add_features_jet1(jet1_test)\n",
    "\n",
    "jet1_train = np.delete(jet1_train, [9, 10, 12, 13, 18, 19], 1)\n",
    "jet1_test = np.delete(jet1_test, [9, 10, 12, 13, 18, 19], 1)\n",
    "\n",
    "jet1_train = normalize(jet1_train)\n",
    "jet1_test = normalize(jet1_test)\n"
   ]
  },
  {
   "cell_type": "code",
   "execution_count": 716,
   "metadata": {
    "collapsed": false
   },
   "outputs": [],
   "source": [
    "#comb = np.sqrt(combinations(jet1_train))\n",
    "jet1_train = normalize(build_poly(jet1_train,1,5))\n",
    "jet1_test = normalize(build_poly(jet1_test, 1, 5))\n",
    "\n",
    "#jet1_train = np.concatenate((jet1_train, comb), 1)\n"
   ]
  },
  {
   "cell_type": "code",
   "execution_count": 717,
   "metadata": {
    "collapsed": false
   },
   "outputs": [],
   "source": [
    "#cross_validation_demo(y1_train, jet1_train, np.logspace(-18,0,20), 7)"
   ]
  },
  {
   "cell_type": "code",
   "execution_count": 718,
   "metadata": {
    "collapsed": false
   },
   "outputs": [],
   "source": [
    "w1, loss1 = ridge_regression(y1_train, jet1_train, 2.63665*10**-8)\n"
   ]
  },
  {
   "cell_type": "code",
   "execution_count": 719,
   "metadata": {
    "collapsed": false
   },
   "outputs": [],
   "source": [
    "def add_features_jet2_3(dataset):\n",
    "    index_tau = [12, 13, 14]\n",
    "    index_lep = [15, 16, 17]\n",
    "    index_met = [18, 19, 20]\n",
    "    index_jet_lead = [21, 22, 23]\n",
    "    index_jet_sub = [24, 25, 26]\n",
    "    \n",
    "    features_to_add = []\n",
    "   \n",
    "    features_to_add.append(compute_invariant_mass(dataset, index_tau, index_jet_lead))\n",
    "    features_to_add.append(compute_invariant_mass(dataset, index_tau, index_jet_sub))\n",
    "    features_to_add.append(compute_invariant_mass(dataset, index_lep, index_jet_lead))\n",
    "    features_to_add.append(compute_invariant_mass(dataset, index_lep, index_jet_sub))\n",
    "    \n",
    "    \n",
    "    features_to_add.append(compute_transverse_mass(dataset, index_tau, index_lep))\n",
    "    features_to_add.append(compute_transverse_mass(dataset, index_tau, index_met))\n",
    "    features_to_add.append(compute_transverse_mass(dataset, index_tau, index_jet_lead))\n",
    "    features_to_add.append(compute_transverse_mass(dataset, index_tau, index_jet_sub))\n",
    "    features_to_add.append(compute_transverse_mass(dataset, index_lep, index_jet_lead))\n",
    "    features_to_add.append(compute_transverse_mass(dataset, index_lep, index_jet_sub))\n",
    "    features_to_add.append(compute_transverse_mass(dataset, index_jet_lead, index_jet_sub))\n",
    "    features_to_add.append(compute_transverse_mass(dataset, index_jet_lead, index_met))\n",
    "    features_to_add.append(compute_transverse_mass(dataset, index_jet_sub, index_met))\n",
    "    \n",
    "    \n",
    "    features_to_add.append(compute_pseudo_rapidity(dataset, 13, 16))\n",
    "    features_to_add.append(compute_pseudo_rapidity(dataset, 13, 22))\n",
    "    features_to_add.append(compute_pseudo_rapidity(dataset, 13, 25)) \n",
    "    features_to_add.append(compute_pseudo_rapidity(dataset, 16, 22))\n",
    "    features_to_add.append(compute_pseudo_rapidity(dataset, 16, 25))\n",
    "    features_to_add.append(compute_pseudo_rapidity(dataset, 22, 25))\n",
    "    \n",
    "    features_to_add.append(compute_product_pseudo(dataset, 13, 16))\n",
    "    features_to_add.append(compute_product_pseudo(dataset, 13, 22))\n",
    "    features_to_add.append(compute_product_pseudo(dataset, 13, 25))\n",
    "    features_to_add.append(compute_product_pseudo(dataset, 16, 22))\n",
    "    features_to_add.append(compute_product_pseudo(dataset, 16, 25))\n",
    "    \n",
    "    \n",
    "    features_to_add = np.array(features_to_add).transpose()\n",
    "    #features_to_add, mean, std = standardize(features_to_add)\n",
    "    \n",
    "    print(features_to_add.shape)\n",
    "    return np.concatenate((dataset,features_to_add), 1)\n",
    "    "
   ]
  },
  {
   "cell_type": "code",
   "execution_count": 720,
   "metadata": {
    "collapsed": true
   },
   "outputs": [],
   "source": [
    "jet2_3_train, mean, std = standardize(jet2_3_train)\n",
    "jet2_3_test = (jet2_3_test - mean) / std\n",
    "\n",
    "mass2 = normalize(clean_column(mass2))\n",
    "jet2_3_train = np.append(jet2_3_train, mass2.reshape(-1,1), 1)\n",
    "\n",
    "mass2_test = normalize(clean_column(mass2_test))\n",
    "jet2_3_test = np.append(jet2_3_test, mass2_test.reshape(-1,1), 1)"
   ]
  },
  {
   "cell_type": "code",
   "execution_count": 721,
   "metadata": {
    "collapsed": false
   },
   "outputs": [
    {
     "name": "stdout",
     "output_type": "stream",
     "text": [
      "(72543, 24)\n",
      "(165442, 24)\n"
     ]
    }
   ],
   "source": [
    "jet2_3_train = add_features_jet2_3(jet2_3_train)\n",
    "jet2_3_test = add_features_jet2_3(jet2_3_test)\n",
    "\n",
    "jet2_3_train = np.delete(jet2_3_train, [14, 17, 23, 26], 1)\n",
    "jet2_3_test = np.delete(jet2_3_test, [14, 17, 23, 26], 1)\n",
    "\n",
    "jet2_3_train = normalize(jet2_3_train)\n",
    "jet2_3_test = normalize(jet2_3_test)"
   ]
  },
  {
   "cell_type": "code",
   "execution_count": 722,
   "metadata": {
    "collapsed": false
   },
   "outputs": [],
   "source": [
    "#comb = combinations(jet2_3_train)\n",
    "jet2_3_train = normalize(build_poly(jet2_3_train,1,12))\n",
    "jet2_3_test = normalize(build_poly(jet2_3_test, 1, 12))"
   ]
  },
  {
   "cell_type": "code",
   "execution_count": 723,
   "metadata": {
    "collapsed": false
   },
   "outputs": [],
   "source": [
    "\n",
    "#jet0_train = np.concatenate((jet2_3_train,comb),1)\n",
    "#cross_validation_demo(y2_3_train, jet2_3_train, np.logspace(-18,0,20), 7)"
   ]
  },
  {
   "cell_type": "code",
   "execution_count": 724,
   "metadata": {
    "collapsed": false
   },
   "outputs": [],
   "source": [
    "w2, loss2 = ridge_regression(y2_3_train, jet2_3_train, 2.3357*10**-7)\n"
   ]
  },
  {
   "cell_type": "code",
   "execution_count": 725,
   "metadata": {
    "collapsed": false
   },
   "outputs": [],
   "source": [
    "y0_predict = predict_labels(w0, jet0_test)\n",
    "y1_predict = predict_labels(w1, jet1_test)\n",
    "y2_predict = predict_labels(w2, jet2_3_test)"
   ]
  },
  {
   "cell_type": "code",
   "execution_count": 726,
   "metadata": {
    "collapsed": true
   },
   "outputs": [],
   "source": [
    "y_predict = np.zeros(len(yTest))\n",
    "y_predict[index0_test] = y0_predict\n",
    "y_predict[index1_test] = y1_predict\n",
    "y_predict[index2_test] = y2_predict"
   ]
  },
  {
   "cell_type": "code",
   "execution_count": 727,
   "metadata": {
    "collapsed": true
   },
   "outputs": [],
   "source": [
    "create_csv_submission(idsTest, y_predict, 'prediction.csv')"
   ]
  }
 ],
 "metadata": {
  "kernelspec": {
   "display_name": "Python 3",
   "language": "python",
   "name": "python3"
  },
  "language_info": {
   "codemirror_mode": {
    "name": "ipython",
    "version": 3
   },
   "file_extension": ".py",
   "mimetype": "text/x-python",
   "name": "python",
   "nbconvert_exporter": "python",
   "pygments_lexer": "ipython3",
   "version": "3.6.0"
  }
 },
 "nbformat": 4,
 "nbformat_minor": 2
}
