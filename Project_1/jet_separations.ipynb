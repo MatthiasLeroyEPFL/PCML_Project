{
 "cells": [
  {
   "cell_type": "code",
   "execution_count": 1,
   "metadata": {
    "collapsed": true
   },
   "outputs": [],
   "source": [
    "%matplotlib inline\n",
    "import numpy as np\n",
    "from proj1_helpers import *\n",
    "from implementations import *\n",
    "from helpers import *\n",
    "%load_ext autoreload\n",
    "%autoreload 2"
   ]
  },
  {
   "cell_type": "code",
   "execution_count": 32,
   "metadata": {
    "collapsed": true
   },
   "outputs": [],
   "source": [
    "y, features, ids = load_csv_data('train.csv')\n",
    "yTest , featuresTest, idsTest = load_csv_data('test.csv')"
   ]
  },
  {
   "cell_type": "code",
   "execution_count": 35,
   "metadata": {
    "collapsed": false
   },
   "outputs": [],
   "source": [
    "\n",
    "def create_dataset(dataset, y):\n",
    "    index = np.where(dataset[:,22] == 0)\n",
    "    jet_0 = dataset[index]\n",
    "    y0 = y[index]\n",
    "    \n",
    "    index = np.where(dataset[:,22] == 1)\n",
    "    jet_1 = dataset[index]\n",
    "    y1 = y[index]\n",
    "    \n",
    "    index = np.where((dataset[:,22] == 2) | (dataset[:,22] == 3))\n",
    "    jet_2_3 = dataset[index]\n",
    "    y2_3 = y[index]\n",
    "    \n",
    "\n",
    "    #Try removing the first features\n",
    "    jet_0 = np.delete(jet_0, [4, 5, 6, 12, 22, 23, 24, 25, 26, 27, 28], 1)\n",
    "    jet_1 = np.delete(jet_1, [4, 5, 6, 12, 22, 26, 27, 28], 1)\n",
    "    jet_2_3 = np.delete(jet_2_3, 22, 1)\n",
    "    \n",
    "    return jet_0, jet_1, jet_2_3, y0, y1, y2_3"
   ]
  },
  {
   "cell_type": "code",
   "execution_count": 36,
   "metadata": {
    "collapsed": false
   },
   "outputs": [
    {
     "name": "stdout",
     "output_type": "stream",
     "text": [
      "(array([     3,      4,      8, ..., 249996, 249998, 249999], dtype=int64),)\n",
      "(array([     1,      2,      7, ..., 249989, 249991, 249997], dtype=int64),)\n",
      "(array([     0,      5,      6, ..., 249992, 249993, 249994], dtype=int64),)\n",
      "(array([     0,      2,      3, ..., 568232, 568235, 568237], dtype=int64),)\n",
      "(array([     1,      6,     10, ..., 568227, 568231, 568236], dtype=int64),)\n",
      "(array([     4,      7,      9, ..., 568230, 568233, 568234], dtype=int64),)\n"
     ]
    }
   ],
   "source": [
    "jet0_train, jet1_train, jet2_3_train, y0_train, y1_train, y2_3_train = create_dataset(features, y)\n",
    "jet0_test, jet1_test, jet2_3_test, y0_test, y1_test, y2_3_test = create_dataset(featuresTest, yTest)\n"
   ]
  }
 ],
 "metadata": {
  "kernelspec": {
   "display_name": "Python 3",
   "language": "python",
   "name": "python3"
  },
  "language_info": {
   "codemirror_mode": {
    "name": "ipython",
    "version": 3
   },
   "file_extension": ".py",
   "mimetype": "text/x-python",
   "name": "python",
   "nbconvert_exporter": "python",
   "pygments_lexer": "ipython3",
   "version": "3.6.0"
  }
 },
 "nbformat": 4,
 "nbformat_minor": 2
}
