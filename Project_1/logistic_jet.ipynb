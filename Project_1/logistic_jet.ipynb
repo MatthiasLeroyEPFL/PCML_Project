{
 "cells": [
  {
   "cell_type": "code",
   "execution_count": 12,
   "metadata": {
    "collapsed": false
   },
   "outputs": [
    {
     "name": "stdout",
     "output_type": "stream",
     "text": [
      "The autoreload extension is already loaded. To reload it, use:\n",
      "  %reload_ext autoreload\n"
     ]
    }
   ],
   "source": [
    "%matplotlib inline\n",
    "import numpy as np\n",
    "from proj1_helpers import *\n",
    "from implementations import *\n",
    "from helpers import *\n",
    "from cross_validation import *\n",
    "%load_ext autoreload\n",
    "%autoreload 2"
   ]
  },
  {
   "cell_type": "code",
   "execution_count": 2,
   "metadata": {
    "collapsed": true
   },
   "outputs": [],
   "source": [
    "y, features, ids = load_csv_data('train.csv')\n",
    "y_test , features_test, ids_test = load_csv_data('test.csv')\n",
    "#y[y==-1] = 0"
   ]
  },
  {
   "cell_type": "code",
   "execution_count": 3,
   "metadata": {
    "collapsed": true
   },
   "outputs": [],
   "source": [
    "index_train = []\n",
    "index_train.append(np.where((features[:,22] == 0) & (features [:,0] == -999)))\n",
    "index_train.append(np.where((features[:,22] == 0) & (features [:,0] != -999)))\n",
    "\n",
    "index_train.append(np.where((features[:,22] == 1) & (features [:,0] == -999)))\n",
    "index_train.append(np.where((features[:,22] == 1) & (features [:,0] != -999)))\n",
    "\n",
    "index_train.append(np.where(((features[:,22] == 2) | (features[:,22] == 3)) & (features [:,0] == -999)))\n",
    "index_train.append(np.where(((features[:,22] == 2) | (features[:,22] == 3)) & (features [:,0] != -999)))\n",
    "\n",
    "index_test = []\n",
    "index_test.append(np.where((features_test[:,22] == 0) & (features_test[:,0] == -999)))\n",
    "index_test.append(np.where((features_test[:,22] == 0) & (features_test[:,0] != -999)))\n",
    "\n",
    "index_test.append(np.where((features_test[:,22] == 1) & (features_test[:,0] == -999)))\n",
    "index_test.append(np.where((features_test[:,22] == 1) & (features_test[:,0] != -999)))\n",
    "\n",
    "index_test.append(np.where(((features_test[:,22] == 2) | (features_test[:,22] == 3)) & (features_test[:,0] == -999)))\n",
    "index_test.append(np.where(((features_test[:,22] == 2) | (features_test[:,22] == 3)) & (features_test[:,0] != -999)))\n"
   ]
  },
  {
   "cell_type": "code",
   "execution_count": 4,
   "metadata": {
    "collapsed": true
   },
   "outputs": [],
   "source": [
    "def create_dataset(dataset, y, index):\n",
    "    jet0_nm = dataset[index[0]]\n",
    "    y0_nm = y[index[0]]\n",
    "    \n",
    "    jet0_wm = dataset[index[1]]\n",
    "    y0_wm = y[index[1]]\n",
    "    \n",
    "    jet1_nm = dataset[index[2]]\n",
    "    y1_nm = y[index[2]]\n",
    "    \n",
    "    jet1_wm = dataset[index[3]]\n",
    "    y1_wm = y[index[3]]\n",
    "    \n",
    "    jet2_nm = dataset[index[4]]\n",
    "    y2_nm = y[index[4]]\n",
    "    \n",
    "    jet2_wm = dataset[index[5]]\n",
    "    y2_wm = y[index[5]]\n",
    "    \n",
    "    \n",
    "    jet0_nm = np.delete(jet0_nm, [0, 4, 5, 6, 12, 22, 23, 24, 25, 26, 27, 28, 29], 1)\n",
    "    jet0_wm = np.delete(jet0_wm, [4, 5, 6, 12, 22, 23, 24, 25, 26, 27, 28, 29], 1)\n",
    "    jet1_nm = np.delete(jet1_nm, [0, 4, 5, 6, 12, 22, 26, 27, 28], 1)\n",
    "    jet1_wm = np.delete(jet1_wm, [4, 5, 6, 12, 22, 26, 27, 28], 1)\n",
    "    jet2_nm = np.delete(jet2_nm, [0, 22], 1)\n",
    "    jet2_wm = np.delete(jet2_wm, 22, 1)\n",
    "    \n",
    "    return [jet0_nm, jet0_wm, jet1_nm, jet1_wm, jet2_nm, jet2_wm], [y0_nm, y0_wm, y1_nm, y1_wm, y2_nm, y2_wm]"
   ]
  },
  {
   "cell_type": "code",
   "execution_count": 5,
   "metadata": {
    "collapsed": true
   },
   "outputs": [],
   "source": [
    "jets_datasets, y_datasets = create_dataset(features, y, index_train) \n",
    "jets_datasets_test, y_datasets_test = create_dataset(features_test, y_test, index_test)"
   ]
  },
  {
   "cell_type": "markdown",
   "metadata": {},
   "source": [
    "# Jet_0_NM"
   ]
  },
  {
   "cell_type": "code",
   "execution_count": 16,
   "metadata": {
    "collapsed": false
   },
   "outputs": [],
   "source": [
    "jet0_nm_train, mean0_nm, std0_nm = standardize(jets_datasets[0])\n",
    "y0_nm_train = y_datasets[0]\n",
    "\n",
    "jet0_nm_test = (jets_datasets_test[0] - mean0_nm) / std0_nm\n",
    "\n",
    "y0_nm_test = y_datasets_test[0]\n",
    "\n",
    "\n",
    "jet0_nm_train, mean0_nm, std0_nm = standardize(build_poly(jet0_nm_train, 2, False, False, True, True))\n",
    "jet0_nm_test = (build_poly(jet0_nm_test, 2, False, False, True, True) - mean0_nm) / std0_nm\n",
    "\n",
    "jet0_nm_train = add_ones(jet0_nm_train)\n",
    "jet0_nm_test = add_ones(jet0_nm_test)"
   ]
  },
  {
   "cell_type": "code",
   "execution_count": 17,
   "metadata": {
    "collapsed": false
   },
   "outputs": [
    {
     "data": {
      "text/plain": [
       "(307,)"
      ]
     },
     "execution_count": 17,
     "metadata": {},
     "output_type": "execute_result"
    }
   ],
   "source": [
    "w0_nm, loss0_nm = ridge_regression(y0_nm_train, jet0_nm_train, 0.00464)\n",
    "w0_nm.shape"
   ]
  },
  {
   "cell_type": "code",
   "execution_count": 27,
   "metadata": {
    "collapsed": false
   },
   "outputs": [
    {
     "name": "stdout",
     "output_type": "stream",
     "text": [
      "1.77526727449 0.9338055130168452 1e-07\n",
      "1.77526727449 0.9338055130168452 1e-07\n"
     ]
    },
    {
     "name": "stderr",
     "output_type": "stream",
     "text": [
      "C:\\Users\\matth\\Anaconda3\\lib\\site-packages\\matplotlib\\axes\\_base.py:2903: UserWarning: Attempting to set identical left==right results\n",
      "in singular transformations; automatically expanding.\n",
      "left=1e-07, right=1e-07\n",
      "  'left=%s, right=%s') % (left, right))\n"
     ]
    },
    {
     "data": {
      "image/png": "[encoded data removed]",
      "text/plain": [
       "<matplotlib.figure.Figure at 0x1e3885d1c88>"
      ]
     },
     "metadata": {},
     "output_type": "display_data"
    }
   ],
   "source": [
    "cross_validation_demo(y0_nm_train, jet0_nm_train, [10**-7], w_initial=w0_nm)"
   ]
  },
  {
   "cell_type": "code",
   "execution_count": null,
   "metadata": {
    "collapsed": true
   },
   "outputs": [],
   "source": [
    "w0_nm, loss0_nm = reg_logistic_regression(y0_nm_train, jet0_nm_train, initial_w=w0_nm, max_iters=20, gamma=5.179*10**-10, lambda_=0.001)\n",
    "y0_nm_predict = predict_labels(w0_nm, jet0_nm_test)"
   ]
  },
  {
   "cell_type": "markdown",
   "metadata": {},
   "source": [
    "# Jet_0_WM"
   ]
  },
  {
   "cell_type": "code",
   "execution_count": null,
   "metadata": {
    "collapsed": false
   },
   "outputs": [],
   "source": [
    "jet0_wm_train, mean0_wm, std0_wm = standardize(jets_datasets[1])\n",
    "y0_wm_train = y_datasets[1]\n",
    "\n",
    "\n",
    "#jet0_wm_train = add_features_jet0(jet0_wm_train)\n",
    "#jet0_wm_train = np.concatenate((jet0_wm_train, compute_inverse_log(jet0_wm_train, [3, 5, 8, 18])), 1)\n",
    "\n",
    "jet0_wm_test = (jets_datasets_test[1] - mean0_wm) / std0_wm\n",
    "y0_wm_test = y_datasets_test[1]\n",
    "\n",
    "#jet0_wm_test = add_features_jet0(jet0_wm_test)\n",
    "#jet0_wm_test = np.concatenate((jet0_wm_test, compute_inverse_log(jet0_wm_test, [3, 5, 8, 18])), 1)\n",
    "\n",
    "jet0_wm_train, mean0_wm, std0_wm = standardize(build_poly(jet0_wm_train, 3, True, False, True, False))\n",
    "jet0_wm_test = (build_poly(jet0_wm_test, 3, True, False, True, False) - mean0_wm) / std0_wm\n",
    "\n",
    "jet0_wm_train = add_ones(jet0_wm_train)\n",
    "jet0_wm_test = add_ones(jet0_wm_test)"
   ]
  },
  {
   "cell_type": "code",
   "execution_count": null,
   "metadata": {
    "collapsed": true
   },
   "outputs": [],
   "source": [
    "w0_wm, loss0_wm = ridge_regression(y0_wm_train, jet0_wm_train, 0.000268269579528)"
   ]
  },
  {
   "cell_type": "code",
   "execution_count": null,
   "metadata": {
    "collapsed": false
   },
   "outputs": [],
   "source": [
    "#cross_validation_demo(y0_wm_train, jet0_wm_train, np.logspace(-10,0,15), w_initial=w0_wm, gamma=10**-10)"
   ]
  },
  {
   "cell_type": "code",
   "execution_count": null,
   "metadata": {
    "collapsed": false
   },
   "outputs": [],
   "source": [
    "w0_wm, loss0_wm = reg_logistic_regression(y0_wm_train, jet0_wm_train, initial_w=w0_wm, max_iters=20, gamma=10**-10 , lambda_=0.001)\n",
    "y0_wm_predict = predict_labels(w0_wm, jet0_wm_test)"
   ]
  },
  {
   "cell_type": "markdown",
   "metadata": {},
   "source": [
    "# Jet_1_NM"
   ]
  },
  {
   "cell_type": "code",
   "execution_count": null,
   "metadata": {
    "collapsed": true
   },
   "outputs": [],
   "source": [
    "jet1_nm_train, mean1_nm, std1_nm = standardize(jets_datasets[2])\n",
    "y1_nm_train = y_datasets[2]\n",
    "\n",
    "jet1_nm_test = (jets_datasets_test[2] - mean1_nm) / std1_nm\n",
    "y1_nm_test = y_datasets_test[2]\n",
    "\n",
    "jet1_nm_train, mean1_nm, std1_nm = standardize(build_poly(jet1_nm_train, 2, False, False, True, False))\n",
    "jet1_nm_test = (build_poly(jet1_nm_test, 2, False, False, True, False) - mean1_nm) / std1_nm\n",
    "\n",
    "\n",
    "\n",
    "jet1_nm_train = add_ones(jet1_nm_train)\n",
    "jet1_nm_test = add_ones(jet1_nm_test)"
   ]
  },
  {
   "cell_type": "code",
   "execution_count": null,
   "metadata": {
    "collapsed": true
   },
   "outputs": [],
   "source": [
    "w1_nm, loss1_nm = ridge_regression(y1_nm_train, jet1_nm_train, 0.0177827941004)"
   ]
  },
  {
   "cell_type": "code",
   "execution_count": null,
   "metadata": {
    "collapsed": false
   },
   "outputs": [],
   "source": [
    "#cross_validation_demo(y1_nm_train, jet1_nm_train, np.logspace(-10,0,15), w_initial=w1_nm, gamma=1.3894*10**-8)"
   ]
  },
  {
   "cell_type": "code",
   "execution_count": null,
   "metadata": {
    "collapsed": true
   },
   "outputs": [],
   "source": [
    "w1_nm, loss1_nm = reg_logistic_regression(y1_nm_train, jet1_nm_train, initial_w=w1_nm, max_iters=20, gamma=1.3894*10**-8, lambda_=0.001)\n",
    "y1_nm_predict = predict_labels(w1_nm, jet1_nm_test)"
   ]
  },
  {
   "cell_type": "markdown",
   "metadata": {},
   "source": [
    "# Jet_1_WM"
   ]
  },
  {
   "cell_type": "code",
   "execution_count": null,
   "metadata": {
    "collapsed": false
   },
   "outputs": [],
   "source": [
    "jet1_wm_train, mean1_wm, std1_wm = standardize(jets_datasets[3])\n",
    "y1_wm_train = y_datasets[3]\n",
    "\n",
    "\n",
    "\n",
    "jet1_wm_test = (jets_datasets_test[3] - mean1_wm) / std1_wm\n",
    "y1_wm_test = y_datasets_test[3]\n",
    "\n",
    "\n",
    "jet1_wm_train, mean1_wm, std1_wm = standardize(build_poly(jet1_wm_train, 4, True, False, True, False))\n",
    "jet1_wm_test = (build_poly(jet1_wm_test, 4, True, False, True, False) - mean1_wm) / std1_wm\n",
    "\n",
    "jet1_wm_train = add_ones(jet1_wm_train)\n",
    "jet1_wm_test = add_ones(jet1_wm_test)"
   ]
  },
  {
   "cell_type": "code",
   "execution_count": null,
   "metadata": {
    "collapsed": true
   },
   "outputs": [],
   "source": [
    "w1_wm, loss1_wm = ridge_regression(y1_wm_train, jet1_wm_train, 0.000695192796178)"
   ]
  },
  {
   "cell_type": "code",
   "execution_count": null,
   "metadata": {
    "collapsed": false
   },
   "outputs": [],
   "source": [
    "#cross_validation_demo(y1_wm_train, jet1_wm_train, np.logspace(-10,0,15), w_initial=w1_wm, gamma=10**-10)"
   ]
  },
  {
   "cell_type": "code",
   "execution_count": null,
   "metadata": {
    "collapsed": true
   },
   "outputs": [],
   "source": [
    "w1_wm, loss1_wm = reg_logistic_regression(y1_wm_train, jet1_wm_train, initial_w=w1_wm, max_iters=20, gamma=10**-10, lambda_=0.001)\n",
    "y1_wm_predict = predict_labels(w1_wm, jet1_wm_test)"
   ]
  },
  {
   "cell_type": "markdown",
   "metadata": {},
   "source": [
    "# Jet_2_NM"
   ]
  },
  {
   "cell_type": "code",
   "execution_count": null,
   "metadata": {
    "collapsed": true
   },
   "outputs": [],
   "source": [
    "jet2_nm_train, mean2_nm, std2_nm = standardize(jets_datasets[4])\n",
    "y2_nm_train = y_datasets[4]\n",
    "\n",
    "\n",
    "jet2_nm_test = (jets_datasets_test[4] - mean2_nm) / std2_nm\n",
    "y2_nm_test = y_datasets_test[4]\n",
    "\n",
    "\n",
    "jet2_nm_train, mean2_nm, std2_nm = standardize(build_poly(jet2_nm_train, 2, False, False, True, False))\n",
    "jet2_nm_test = (build_poly(jet2_nm_test, 2, False, False, True, False ) - mean2_nm) / std2_nm\n",
    "\n",
    "jet2_nm_train = add_ones(jet2_nm_train)\n",
    "jet2_nm_test = add_ones(jet2_nm_test)"
   ]
  },
  {
   "cell_type": "code",
   "execution_count": null,
   "metadata": {
    "collapsed": true
   },
   "outputs": [],
   "source": [
    "w2_nm, loss2_nm = ridge_regression(y2_nm_train, jet2_nm_train, 0.0215443469003)"
   ]
  },
  {
   "cell_type": "code",
   "execution_count": null,
   "metadata": {
    "collapsed": false
   },
   "outputs": [],
   "source": [
    "#cross_validation_demo(y2_nm_train, jet2_nm_train, np.logspace(-10,0,15), w_initial=w2_nm, gamma=10**-10)"
   ]
  },
  {
   "cell_type": "code",
   "execution_count": null,
   "metadata": {
    "collapsed": true
   },
   "outputs": [],
   "source": [
    "w2_nm, loss2_nm = reg_logistic_regression(y2_nm_train, jet2_nm_train, initial_w=w2_nm, max_iters=20, gamma=10**-10, lambda_=0.001)\n",
    "y2_nm_predict = predict_labels(w2_nm, jet2_nm_test)"
   ]
  },
  {
   "cell_type": "markdown",
   "metadata": {},
   "source": [
    "# Jet_2_WM"
   ]
  },
  {
   "cell_type": "code",
   "execution_count": null,
   "metadata": {
    "collapsed": false
   },
   "outputs": [],
   "source": [
    "jet2_wm_train, mean2_wm, std2_wm = standardize(jets_datasets[5])\n",
    "y2_wm_train = y_datasets[5]\n",
    "\n",
    "jet2_wm_test = (jets_datasets_test[5] - mean2_wm) / std2_wm\n",
    "y2_wm_test = y_datasets_test[5]\n",
    "\n",
    "\n",
    "\n",
    "\n",
    "\n",
    "jet2_wm_train, mean2_wm, std2_wm = standardize(build_poly(jet2_wm_train, 3, True, True, True, False))\n",
    "jet2_wm_test = (build_poly(jet2_wm_test, 3, True, True, True, False) - mean2_wm) / std2_wm\n",
    "\n",
    "\n",
    "jet2_wm_train = add_ones(jet2_wm_train)\n",
    "print(jet2_wm_train.shape)\n",
    "jet2_wm_test = add_ones(jet2_wm_test)"
   ]
  },
  {
   "cell_type": "code",
   "execution_count": null,
   "metadata": {
    "collapsed": true
   },
   "outputs": [],
   "source": [
    "w2_wm, loss_wn = ridge_regression(y2_wm_train, jet2_wm_train, 0.00138949549437)"
   ]
  },
  {
   "cell_type": "code",
   "execution_count": null,
   "metadata": {
    "collapsed": false
   },
   "outputs": [],
   "source": [
    "#cross_validation_demo(y2_wm_train, jet2_wm_train, [0.001], w_initial=w2_wm, gamma=10**-10)"
   ]
  },
  {
   "cell_type": "code",
   "execution_count": null,
   "metadata": {
    "collapsed": true
   },
   "outputs": [],
   "source": [
    "w2_wm, loss_wn = reg_logistic_regression(y2_wm_train, jet2_wm_train, initial_w=w2_wm, max_iters=20, gamma=10**-10, lambda_=0.001)\n",
    "y2_wm_predict = predict_labels(w2_wm, jet2_wm_test)"
   ]
  },
  {
   "cell_type": "code",
   "execution_count": null,
   "metadata": {
    "collapsed": true
   },
   "outputs": [],
   "source": [
    "y_predict = y_predict = np.zeros(len(y_test))\n",
    "y_predict[index_test[0]] = y0_nm_predict\n",
    "y_predict[index_test[1]] = y0_wm_predict\n",
    "y_predict[index_test[2]] = y1_nm_predict\n",
    "y_predict[index_test[3]] = y1_wm_predict\n",
    "y_predict[index_test[4]] = y2_nm_predict\n",
    "y_predict[index_test[5]] = y2_wm_predict\n",
    "\n",
    "create_csv_submission(ids_test, y_predict, 'prediction.csv')"
   ]
  }
 ],
 "metadata": {
  "kernelspec": {
   "display_name": "Python 3",
   "language": "python",
   "name": "python3"
  },
  "language_info": {
   "codemirror_mode": {
    "name": "ipython",
    "version": 3
   },
   "file_extension": ".py",
   "mimetype": "text/x-python",
   "name": "python",
   "nbconvert_exporter": "python",
   "pygments_lexer": "ipython3",
   "version": "3.6.0"
  }
 },
 "nbformat": 4,
 "nbformat_minor": 2
}
